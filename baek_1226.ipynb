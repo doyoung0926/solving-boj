{
 "cells": [
  {
   "cell_type": "code",
   "execution_count": 3,
   "metadata": {},
   "outputs": [
    {
     "name": "stdout",
     "output_type": "stream",
     "text": [
      "186\n",
      "7\n"
     ]
    }
   ],
   "source": [
    "# https://www.acmicpc.net/problem/2576\n",
    "\n",
    "numbers = []\n",
    "\n",
    "for _ in range(7):\n",
    "    \n",
    "    N = int(input())\n",
    "\n",
    "    if N % 2 == 1:\n",
    "        numbers.append(N)\n",
    "\n",
    "if len(numbers) >= 1: \n",
    "    print(sum(numbers))\n",
    "    print(min(numbers))\n",
    "else:\n",
    "    print(-1)\n",
    "\n"
   ]
  },
  {
   "cell_type": "code",
   "execution_count": 5,
   "metadata": {},
   "outputs": [
    {
     "name": "stdout",
     "output_type": "stream",
     "text": [
      "10010\n"
     ]
    }
   ],
   "source": [
    "# https://www.acmicpc.net/problem/2935\n",
    "\n",
    "A = int(input())\n",
    "operator = input()\n",
    "B = int(input())\n",
    "\n",
    "if operator == '*':\n",
    "    print(A*B)\n",
    "if operator == '+':\n",
    "    print(A+B)"
   ]
  },
  {
   "cell_type": "code",
   "execution_count": 10,
   "metadata": {},
   "outputs": [
    {
     "name": "stdout",
     "output_type": "stream",
     "text": [
      "5=15/3\n"
     ]
    }
   ],
   "source": [
    "# https://www.acmicpc.net/problem/2985\n",
    "\n",
    "A, B, C = map(int, input().split())\n",
    "\n",
    "if A + B == C:\n",
    "    print(f'{A}+{B}={C}')\n",
    "elif A - B == C:\n",
    "    print(f'{A}-{B}={C}')\n",
    "elif A * B == C:\n",
    "    print(f'{A}*{B}={C}')\n",
    "elif A / B == C:\n",
    "    print(f'{A}/{B}={C}')\n",
    "elif A == B + C:\n",
    "    print(f'{A}={B}+{C}')\n",
    "elif A == B - C:\n",
    "    print(f'{A}={B}-{C}')\n",
    "elif A == B * C:\n",
    "    print(f'{A}={B}*{C}')\n",
    "elif A == B / C:\n",
    "    print(f'{A}={B}/{C}')\n"
   ]
  }
 ],
 "metadata": {
  "kernelspec": {
   "display_name": "Python 3",
   "language": "python",
   "name": "python3"
  },
  "language_info": {
   "codemirror_mode": {
    "name": "ipython",
    "version": 3
   },
   "file_extension": ".py",
   "mimetype": "text/x-python",
   "name": "python",
   "nbconvert_exporter": "python",
   "pygments_lexer": "ipython3",
   "version": "3.10.5"
  },
  "orig_nbformat": 4,
  "vscode": {
   "interpreter": {
    "hash": "26de051ba29f2982a8de78e945f0abaf191376122a1563185a90213a26c5da77"
   }
  }
 },
 "nbformat": 4,
 "nbformat_minor": 2
}
