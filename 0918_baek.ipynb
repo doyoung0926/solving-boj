{
 "cells": [
  {
   "cell_type": "code",
   "execution_count": 44,
   "id": "311c40ab",
   "metadata": {},
   "outputs": [
    {
     "name": "stdout",
     "output_type": "stream",
     "text": [
      "3\n",
      "0\n",
      "0\n",
      "-1\n",
      "0\n",
      "0\n",
      "0\n",
      "1\n"
     ]
    }
   ],
   "source": [
    "# https://www.acmicpc.net/problem/2108  # 런타임 오류\n",
    "\n",
    "import pandas as pd\n",
    "\n",
    "N = int(input())\n",
    "\n",
    "nums = list()\n",
    "for _ in range(N):\n",
    "    nums.append(int(input()))\n",
    "    \n",
    "df = pd.DataFrame(nums)\n",
    "print(round(df.mean()[0]))\n",
    "print(int(df.median()[0]))\n",
    "n_mode = []\n",
    "try:\n",
    "    if df.mode()[0].shape[0]>=2:\n",
    "        for i in range(df.mode()[0].shape[0]):\n",
    "            n_mode.append(df.mode()[0][i])\n",
    "    n_mode.sort()\n",
    "    print(n_mode[1])  \n",
    "except:\n",
    "    print(df.mode()[0][0])\n",
    "print(df.max()[0]-df.min()[0])"
   ]
  },
  {
   "cell_type": "code",
   "execution_count": 61,
   "id": "f5a69766",
   "metadata": {},
   "outputs": [
    {
     "data": {
      "text/plain": [
       "''"
      ]
     },
     "execution_count": 61,
     "metadata": {},
     "output_type": "execute_result"
    }
   ],
   "source": [
    "# https://www.acmicpc.net/problem/2751\n",
    "\n",
    "import sys\n",
    "\n",
    "n = sys.stdin.readline()\n",
    "\n",
    "# nums = list()\n",
    "# for _ in range(N):\n",
    "#     nums.append(int(sys.stdin.readline()))\n",
    "    \n",
    "# nums.sort()\n",
    "# for i in range(len(nums)):\n",
    "#     print(nums[i])\n",
    "n"
   ]
  },
  {
   "cell_type": "code",
   "execution_count": 65,
   "id": "293a0501",
   "metadata": {},
   "outputs": [
    {
     "name": "stdout",
     "output_type": "stream",
     "text": [
      "10\n",
      "3628800\n"
     ]
    }
   ],
   "source": [
    "# https://www.acmicpc.net/problem/10872\n",
    "\n",
    "N = int(input())\n",
    "\n",
    "n_fact = 1\n",
    "\n",
    "if N == 0:\n",
    "    print(1)\n",
    "else:\n",
    "    for i in range(N, 0, -1):\n",
    "        n_fact *= i\n",
    "        \n",
    "    print(n_fact)"
   ]
  },
  {
   "cell_type": "code",
   "execution_count": null,
   "id": "b6a5ed11",
   "metadata": {},
   "outputs": [],
   "source": [
    "# https://www.acmicpc.net/problem/10870  # 런타임 에러\n",
    "\n",
    "n = int(input())\n",
    "\n",
    "num  = [0, 1]\n",
    "if n == 0:\n",
    "    print(0)\n",
    "elif n==1:\n",
    "    print(1)\n",
    "else:\n",
    "    for i in range(2,N+1):\n",
    "        num.append(num[i-2]+num[i-1])\n",
    "        \n",
    "    print(num[N])"
   ]
  },
  {
   "cell_type": "code",
   "execution_count": null,
   "id": "e5cf1bf6",
   "metadata": {},
   "outputs": [],
   "source": []
  }
 ],
 "metadata": {
  "kernelspec": {
   "display_name": "Python 3 (ipykernel)",
   "language": "python",
   "name": "python3"
  },
  "language_info": {
   "codemirror_mode": {
    "name": "ipython",
    "version": 3
   },
   "file_extension": ".py",
   "mimetype": "text/x-python",
   "name": "python",
   "nbconvert_exporter": "python",
   "pygments_lexer": "ipython3",
   "version": "3.9.12"
  }
 },
 "nbformat": 4,
 "nbformat_minor": 5
}
