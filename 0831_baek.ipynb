{
 "cells": [
  {
   "cell_type": "code",
   "execution_count": 1,
   "id": "7915b687",
   "metadata": {},
   "outputs": [
    {
     "name": "stdout",
     "output_type": "stream",
     "text": [
      "강한친구 대한육군\n",
      "강한친구 대한육군\n"
     ]
    }
   ],
   "source": [
    "print('강한친구 대한육군\\n강한친구 대한육군')"
   ]
  },
  {
   "cell_type": "code",
   "execution_count": null,
   "id": "d350aaea",
   "metadata": {},
   "outputs": [],
   "source": [
    "A, B = map(int, input().split())\n",
    "print(A+B, A-B, A*B, A//B, A%B, sep = '\\n')"
   ]
  },
  {
   "cell_type": "code",
   "execution_count": null,
   "id": "0d4b0c94",
   "metadata": {},
   "outputs": [],
   "source": [
    "ID = input()\n",
    "print(ID+'??!')"
   ]
  },
  {
   "cell_type": "code",
   "execution_count": null,
   "id": "64f357fc",
   "metadata": {},
   "outputs": [],
   "source": [
    "y = int(input())\n",
    "print(y-543)"
   ]
  },
  {
   "cell_type": "code",
   "execution_count": null,
   "id": "81b18d33",
   "metadata": {},
   "outputs": [],
   "source": [
    "chess = [1, 1, 2, 2, 2, 8]\n",
    "k,q,l,b,n,p=map(int, input().split())\n",
    "print(chess[0]-k, chess[1]-q, chess[2]-l, \n",
    "      chess[3]-b, chess[4]-n, chess[5]-p)"
   ]
  },
  {
   "cell_type": "code",
   "execution_count": null,
   "id": "ef9ba6bd",
   "metadata": {},
   "outputs": [],
   "source": [
    "A, B, C = map(int, input().split())\n",
    "print((A+B)%C, ((A%C)+(B%C))%C, (A*B)%C, ((A%C)*(B%C))%C, sep ='\\n')"
   ]
  },
  {
   "cell_type": "code",
   "execution_count": null,
   "id": "bb236a1f",
   "metadata": {},
   "outputs": [],
   "source": [
    "a=int(input())\n",
    "b=int(input())\n",
    "print(a*(b%10), a*(b%100 - b%10)//10, a*(b%1000-b%100)//100, a*b, sep='\\n')"
   ]
  },
  {
   "cell_type": "code",
   "execution_count": 2,
   "id": "85d76c80",
   "metadata": {},
   "outputs": [
    {
     "name": "stdout",
     "output_type": "stream",
     "text": [
      "|\\_/|\n",
      "|q p|   /}\n",
      "( 0 )\"\"\"\\\n",
      "|\"^\"`    |\n",
      "||_/=\\\\__|\n",
      "\n"
     ]
    }
   ],
   "source": [
    "print(r'''|\\_/|\n",
    "|q p|   /}\n",
    "( 0 )\"\"\"\\\n",
    "|\"^\"`    |\n",
    "||_/=\\\\__|\n",
    "''')"
   ]
  },
  {
   "cell_type": "code",
   "execution_count": null,
   "id": "6d6f189a",
   "metadata": {},
   "outputs": [],
   "source": [
    "print(r'''\\    /\\\n",
    " )  ( ')\n",
    "(  /  )\n",
    " \\(__)|''')"
   ]
  },
  {
   "cell_type": "code",
   "execution_count": null,
   "id": "40bd4c7a",
   "metadata": {},
   "outputs": [],
   "source": [
    "print(r'''         ,r'\"7\n",
    "r`-_   ,'  ,/\n",
    " \\. \". L_r'\n",
    "   `~\\/\n",
    "      |\n",
    "      |\n",
    "''')"
   ]
  },
  {
   "cell_type": "code",
   "execution_count": null,
   "id": "c50c9873",
   "metadata": {},
   "outputs": [],
   "source": [
    "# 조건문\n",
    "A, B = map(int,input().split())\n",
    "if A > B:\n",
    "    print('>')\n",
    "elif A < B:\n",
    "    print('<')\n",
    "else:\n",
    "    print('==')"
   ]
  },
  {
   "cell_type": "code",
   "execution_count": null,
   "id": "2d581497",
   "metadata": {},
   "outputs": [],
   "source": [
    "score = int(input())\n",
    "if 90 <= score <= 100:\n",
    "    print('A')\n",
    "elif 80 <= score <= 89:\n",
    "    print('B')\n",
    "elif 70 <= score <= 79:\n",
    "    print('C')\n",
    "elif 60 <= score <= 69:\n",
    "    print('D')\n",
    "else:\n",
    "    print('F')"
   ]
  },
  {
   "cell_type": "code",
   "execution_count": null,
   "id": "f9506018",
   "metadata": {},
   "outputs": [],
   "source": [
    "year = int(input())\n",
    "\n",
    "if year%400==0:\n",
    "    print('1')\n",
    "elif year%100==0:\n",
    "    print('0')\n",
    "elif year%4==0:\n",
    "    print('1')\n",
    "else:\n",
    "    print('0')"
   ]
  },
  {
   "cell_type": "code",
   "execution_count": null,
   "id": "eeb547f1",
   "metadata": {},
   "outputs": [],
   "source": [
    "x = int(input())\n",
    "y = int(input())\n",
    "\n",
    "if x>0 and y>0:\n",
    "    print('1')\n",
    "elif x<0 and y>0:\n",
    "    print('2')\n",
    "elif x<0 and y<0:\n",
    "    print('3')\n",
    "elif x>0 and y<0:\n",
    "    print('4')"
   ]
  },
  {
   "cell_type": "code",
   "execution_count": 10,
   "id": "6afa7327",
   "metadata": {},
   "outputs": [
    {
     "name": "stdout",
     "output_type": "stream",
     "text": [
      "23 40\n",
      "22 55\n"
     ]
    }
   ],
   "source": [
    "h, m = map(int, input().split())\n",
    "\n",
    "if m >= 45:\n",
    "    print(f'{h} {m-45}')\n",
    "if h == 0 and m < 45:\n",
    "    print(f'23 {m+15}')\n",
    "elif m < 45:\n",
    "    print(f'{h-1} {m+15}')"
   ]
  }
 ],
 "metadata": {
  "kernelspec": {
   "display_name": "Python 3 (ipykernel)",
   "language": "python",
   "name": "python3"
  },
  "language_info": {
   "codemirror_mode": {
    "name": "ipython",
    "version": 3
   },
   "file_extension": ".py",
   "mimetype": "text/x-python",
   "name": "python",
   "nbconvert_exporter": "python",
   "pygments_lexer": "ipython3",
   "version": "3.9.12"
  }
 },
 "nbformat": 4,
 "nbformat_minor": 5
}
