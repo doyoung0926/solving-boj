{
 "cells": [
  {
   "cell_type": "code",
   "execution_count": 4,
   "id": "ed84afe1",
   "metadata": {},
   "outputs": [
    {
     "name": "stdout",
     "output_type": "stream",
     "text": [
      "216\n",
      "216\n"
     ]
    }
   ],
   "source": [
    "# https://www.acmicpc.net/problem/2231  # 안나옴..\n",
    "\n",
    "N = int(input())\n",
    "for n in range(N):\n",
    "    m=n\n",
    "    for i in range(len(str(n))):\n",
    "        m += int(str(n)[i])\n",
    "    if N == m:\n",
    "        break\n",
    "print(m)\n",
    "                   "
   ]
  },
  {
   "cell_type": "code",
   "execution_count": 11,
   "id": "07203875",
   "metadata": {},
   "outputs": [
    {
     "name": "stdout",
     "output_type": "stream",
     "text": [
      "3 5\n",
      "1 2 4\n",
      "2 3 4 5 6\n",
      "4\n"
     ]
    }
   ],
   "source": [
    "# acmicpc.net/problem/1269\n",
    "\n",
    "A, B = map(int, input().split())\n",
    "\n",
    "a = set(map(int, input().split()))\n",
    "b = set(map(int, input().split()))\n",
    "\n",
    "print(len(a-b)+len(b-a))"
   ]
  },
  {
   "cell_type": "code",
   "execution_count": 10,
   "id": "69615934",
   "metadata": {},
   "outputs": [
    {
     "data": {
      "text/plain": [
       "{3, 5, 6}"
      ]
     },
     "execution_count": 10,
     "metadata": {},
     "output_type": "execute_result"
    }
   ],
   "source": [
    "b-a"
   ]
  },
  {
   "cell_type": "code",
   "execution_count": null,
   "id": "2945f424",
   "metadata": {},
   "outputs": [],
   "source": []
  }
 ],
 "metadata": {
  "kernelspec": {
   "display_name": "Python 3 (ipykernel)",
   "language": "python",
   "name": "python3"
  },
  "language_info": {
   "codemirror_mode": {
    "name": "ipython",
    "version": 3
   },
   "file_extension": ".py",
   "mimetype": "text/x-python",
   "name": "python",
   "nbconvert_exporter": "python",
   "pygments_lexer": "ipython3",
   "version": "3.9.12"
  }
 },
 "nbformat": 4,
 "nbformat_minor": 5
}
