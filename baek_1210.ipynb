{
 "cells": [
  {
   "cell_type": "code",
   "execution_count": 14,
   "metadata": {},
   "outputs": [
    {
     "ename": "ValueError",
     "evalue": "invalid literal for int() with base 10: ''",
     "output_type": "error",
     "traceback": [
      "\u001b[1;31m---------------------------------------------------------------------------\u001b[0m",
      "\u001b[1;31mValueError\u001b[0m                                Traceback (most recent call last)",
      "Cell \u001b[1;32mIn [14], line 3\u001b[0m\n\u001b[0;32m      1\u001b[0m \u001b[39m# https://www.acmicpc.net/problem/2028\u001b[39;00m\n\u001b[1;32m----> 3\u001b[0m T \u001b[39m=\u001b[39m \u001b[39mint\u001b[39;49m(\u001b[39minput\u001b[39;49m())\n\u001b[0;32m      5\u001b[0m \u001b[39mfor\u001b[39;00m _ \u001b[39min\u001b[39;00m \u001b[39mrange\u001b[39m(T):\n\u001b[0;32m      6\u001b[0m     N \u001b[39m=\u001b[39m \u001b[39mint\u001b[39m(\u001b[39minput\u001b[39m())\n",
      "\u001b[1;31mValueError\u001b[0m: invalid literal for int() with base 10: ''"
     ]
    }
   ],
   "source": [
    "# https://www.acmicpc.net/problem/2028\n",
    "\n",
    "T = int(input())\n",
    "\n",
    "for _ in range(T):\n",
    "    N = int(input())\n",
    "\n",
    "    if str(N**2)[-int(len(str(N))):]==str(N):\n",
    "        print('YES')\n",
    "\n",
    "    else:\n",
    "        print('NO')"
   ]
  },
  {
   "cell_type": "code",
   "execution_count": null,
   "metadata": {},
   "outputs": [
    {
     "name": "stdout",
     "output_type": "stream",
     "text": [
      "0.0078125\n"
     ]
    }
   ],
   "source": [
    "# https://www.acmicpc.net/problem/2052   # 실패\n",
    "\n",
    "N = int(input())\n",
    "\n",
    "print(1/(2**N))"
   ]
  },
  {
   "cell_type": "code",
   "execution_count": 19,
   "metadata": {},
   "outputs": [
    {
     "name": "stdout",
     "output_type": "stream",
     "text": [
      "61\n",
      "227\n",
      "60\n"
     ]
    },
    {
     "ename": "ValueError",
     "evalue": "not enough values to unpack (expected 3, got 0)",
     "output_type": "error",
     "traceback": [
      "\u001b[1;31m---------------------------------------------------------------------------\u001b[0m",
      "\u001b[1;31mValueError\u001b[0m                                Traceback (most recent call last)",
      "Cell \u001b[1;32mIn [19], line 7\u001b[0m\n\u001b[0;32m      1\u001b[0m \u001b[39m# https://www.acmicpc.net/problem/2139\u001b[39;00m\n\u001b[0;32m      5\u001b[0m \u001b[39mwhile\u001b[39;00m \u001b[39m1\u001b[39m:\n\u001b[1;32m----> 7\u001b[0m     day, month, year \u001b[39m=\u001b[39m \u001b[39mmap\u001b[39m(\u001b[39mint\u001b[39m, \u001b[39minput\u001b[39m()\u001b[39m.\u001b[39msplit())\n\u001b[0;32m      9\u001b[0m     \u001b[39mif\u001b[39;00m [day, month, year] \u001b[39m==\u001b[39m [\u001b[39m0\u001b[39m,\u001b[39m0\u001b[39m,\u001b[39m0\u001b[39m]:\n\u001b[0;32m     10\u001b[0m         \u001b[39mbreak\u001b[39;00m\n",
      "\u001b[1;31mValueError\u001b[0m: not enough values to unpack (expected 3, got 0)"
     ]
    }
   ],
   "source": [
    "# https://www.acmicpc.net/problem/2139\n",
    "\n",
    "\n",
    "\n",
    "while 1:\n",
    "\n",
    "    day, month, year = map(int, input().split())\n",
    "\n",
    "    if [day, month, year] == [0,0,0]:\n",
    "        break\n",
    "\n",
    "    months = [31,28,31,30,31,30,31,31,30,31,30,31]\n",
    "\n",
    "    if year%400 == 0:\n",
    "        if (month == 1) | ((month == 2)&(day<=29)):\n",
    "            print(sum(months[:month-1]) + day)\n",
    "        else:\n",
    "            print(sum(months[:month-1]) + day + 1)\n",
    "    elif year%100 == 0:\n",
    "        print(sum(months[:month-1]) + day)\n",
    "    elif year%4 == 0:\n",
    "        if (month == 1) | ((month == 2)&(day<=29)):\n",
    "            print(sum(months[:month-1]) + day)\n",
    "        else:\n",
    "            print(sum(months[:month-1]) + day + 1)\n",
    "    else:\n",
    "        print(sum(months[:month-1]) + day)\n",
    "    \n",
    "    \n",
    "    \n"
   ]
  },
  {
   "cell_type": "code",
   "execution_count": null,
   "metadata": {},
   "outputs": [],
   "source": []
  }
 ],
 "metadata": {
  "kernelspec": {
   "display_name": "ff38",
   "language": "python",
   "name": "python3"
  },
  "language_info": {
   "codemirror_mode": {
    "name": "ipython",
    "version": 3
   },
   "file_extension": ".py",
   "mimetype": "text/x-python",
   "name": "python",
   "nbconvert_exporter": "python",
   "pygments_lexer": "ipython3",
   "version": "3.8.15"
  },
  "orig_nbformat": 4,
  "vscode": {
   "interpreter": {
    "hash": "134a072d5721038f7a0566ad89b8f20ad013922691df7c94a07b0dcd69bf1785"
   }
  }
 },
 "nbformat": 4,
 "nbformat_minor": 2
}
