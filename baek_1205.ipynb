{
 "cells": [
  {
   "cell_type": "code",
   "execution_count": null,
   "metadata": {},
   "outputs": [],
   "source": [
    "# https://www.acmicpc.net/problem/1712   # 실패\n",
    "# import sys\n",
    "# input = sys.stdin.readline\n",
    "\n",
    "A, B, C = map(int, input().split())\n",
    "\n",
    "if B != C:\n",
    "    if A / (C - B) >= 1:\n",
    "        print((A // (C - B)) + 1)\n",
    "    else:\n",
    "        print(-1)\n",
    "else:\n",
    "    print(1)"
   ]
  },
  {
   "cell_type": "code",
   "execution_count": null,
   "metadata": {},
   "outputs": [],
   "source": [
    "# https://www.acmicpc.net/problem/1924   # 틀림\n",
    "\n",
    "x, y = map(int, input().split())\n",
    "\n",
    "def month(x, y, a0,a1,a2,a3,a4,a5,a6):\n",
    "    if (x == x):\n",
    "        if y % 7 == 0:\n",
    "            print(a0)\n",
    "        elif y % 7 == 1:\n",
    "            print(a1)\n",
    "        elif y % 7 == 2:\n",
    "            print(a2)\n",
    "        elif y % 7 == 3:\n",
    "            print(a3)\n",
    "        elif y % 7 == 4:\n",
    "            print(a4)\n",
    "        elif y % 7 == 5:\n",
    "            print(a6)\n",
    "        elif y % 7 == 6:\n",
    "            print(a6)\n",
    "        \n",
    "        \n",
    "if (x == 1) | (x == 10):\n",
    "    month(x, y, 'SUN', 'MON', 'TUE', 'WED', 'THU', 'FRI', 'SAT')\n",
    "elif (x == 2) | (x == 3) | (x == 11):\n",
    "    month(x, y, 'WED', 'THU', 'FRI', 'SAT','SUN', 'MON', 'TUE')\n",
    "elif (x == 4) | (x == 7):\n",
    "    month(x, y, 'SAT', 'SUN', 'MON', 'TUE', 'WED', 'THU', 'FRI')\n",
    "elif (x == 5):\n",
    "    month(x, y, 'MON', 'TUE', 'WED', 'THU', 'FRI', 'SAT', 'SUN')\n",
    "elif (x == 6):\n",
    "    month(x, y, 'THU', 'FRI', 'SAT', 'SUN', 'MON', 'TUE', 'WED')\n",
    "elif (x == 8):\n",
    "    month(x, y, 'TUE', 'WED', 'THU', 'FRI', 'SAT', 'SUN', 'MON')\n",
    "elif (x == 9)| (x == 12):\n",
    "    month(x, y, 'FRI', 'SAT', 'SUN', 'MON', 'TUE', 'WED', 'THU')"
   ]
  }
 ],
 "metadata": {
  "language_info": {
   "name": "python"
  },
  "orig_nbformat": 4
 },
 "nbformat": 4,
 "nbformat_minor": 2
}
