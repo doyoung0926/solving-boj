{
 "cells": [
  {
   "cell_type": "code",
   "execution_count": 1,
   "metadata": {},
   "outputs": [
    {
     "name": "stdout",
     "output_type": "stream",
     "text": [
      "19\n"
     ]
    }
   ],
   "source": [
    "# https://www.acmicpc.net/problem/3046\n",
    "\n",
    "import sys\n",
    "input = sys.stdin.readline\n",
    "\n",
    "R1, S = map(int, input().split())\n",
    "\n",
    "print(2*S - R1)"
   ]
  },
  {
   "cell_type": "code",
   "execution_count": 5,
   "metadata": {},
   "outputs": [
    {
     "ename": "ValueError",
     "evalue": "not enough values to unpack (expected 3, got 0)",
     "output_type": "error",
     "traceback": [
      "\u001b[1;31m---------------------------------------------------------------------------\u001b[0m",
      "\u001b[1;31mValueError\u001b[0m                                Traceback (most recent call last)",
      "Cell \u001b[1;32mIn [5], line 3\u001b[0m\n\u001b[0;32m      1\u001b[0m \u001b[39m# https://www.acmicpc.net/problem/2530\u001b[39;00m\n\u001b[1;32m----> 3\u001b[0m A, B, C \u001b[39m=\u001b[39m \u001b[39mmap\u001b[39m(\u001b[39mint\u001b[39m, \u001b[39minput\u001b[39m()\u001b[39m.\u001b[39msplit())\n\u001b[0;32m      4\u001b[0m D \u001b[39m=\u001b[39m \u001b[39mint\u001b[39m(\u001b[39minput\u001b[39m())\n\u001b[0;32m      6\u001b[0m \u001b[39mif\u001b[39;00m (D \u001b[39m%\u001b[39m \u001b[39m60\u001b[39m) \u001b[39m+\u001b[39m C \u001b[39m>\u001b[39m\u001b[39m=\u001b[39m \u001b[39m60\u001b[39m:\n",
      "\u001b[1;31mValueError\u001b[0m: not enough values to unpack (expected 3, got 0)"
     ]
    }
   ],
   "source": [
    "# https://www.acmicpc.net/problem/2530  # 오답\n",
    "\n",
    "A, B, C = map(int, input().split())\n",
    "D = int(input())\n",
    "\n",
    "(D // 3600) + 1\n",
    "\n",
    "if (D % 60) + C >= 60:\n",
    "    C = (D % 60) + C - 60\n",
    "    B += 1 \n",
    "else:\n",
    "    C = (D % 60) + C\n",
    "\n",
    "if (D // 60) + B >= 60:\n",
    "    B = (D // 60) + B - 60\n",
    "    A += 1\n",
    "else:\n",
    "    B = (D // 60) + B\n",
    "\n",
    "if A >= 24:\n",
    "    A -= 24\n",
    "\n",
    "print(A,B,C)"
   ]
  },
  {
   "cell_type": "code",
   "execution_count": 4,
   "metadata": {},
   "outputs": [
    {
     "name": "stdout",
     "output_type": "stream",
     "text": [
      "9\n"
     ]
    }
   ],
   "source": [
    "# https://www.acmicpc.net/problem/1264  # 출력 초과\n",
    "\n",
    "import sys\n",
    "input = sys.stdin.readline\n",
    "\n",
    "while 1:\n",
    "    S = input()\n",
    "    S = S.lower()\n",
    "    if S == '#':\n",
    "        break\n",
    "    else:\n",
    "        print(sum([S.count(i) for i in ['a', 'e', 'i', 'o', 'u']]))\n",
    "\n"
   ]
  },
  {
   "cell_type": "code",
   "execution_count": null,
   "metadata": {},
   "outputs": [],
   "source": []
  }
 ],
 "metadata": {
  "kernelspec": {
   "display_name": "Python 3.9.13 ('base')",
   "language": "python",
   "name": "python3"
  },
  "language_info": {
   "codemirror_mode": {
    "name": "ipython",
    "version": 3
   },
   "file_extension": ".py",
   "mimetype": "text/x-python",
   "name": "python",
   "nbconvert_exporter": "python",
   "pygments_lexer": "ipython3",
   "version": "3.9.13"
  },
  "orig_nbformat": 4,
  "vscode": {
   "interpreter": {
    "hash": "263930470851f494f0ed2879c35b57985588df20f9e529b86e97dd5eb9ddc466"
   }
  }
 },
 "nbformat": 4,
 "nbformat_minor": 2
}
