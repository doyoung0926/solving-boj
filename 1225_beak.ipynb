{
 "cells": [
  {
   "cell_type": "code",
   "execution_count": 11,
   "metadata": {},
   "outputs": [
    {
     "name": "stdout",
     "output_type": "stream",
     "text": [
      "*        *\n",
      "**      **\n",
      "***    ***\n",
      "****  ****\n",
      "**********\n",
      "****  ****\n",
      "***    ***\n",
      "**      **\n",
      "*        *\n"
     ]
    }
   ],
   "source": [
    "# https://www.acmicpc.net/problem/2445\n",
    "\n",
    "N = int(input())\n",
    "\n",
    "for i in range((2*N)-1):\n",
    "    if i < N:\n",
    "        print((i+1)*'*'+2*(N-1-i)*' '+(i+1)*'*')\n",
    "    else:\n",
    "        print(((2*N)-1-i)*'*'+((i+1-N)*2)*' '+((2*N)-1-i)*'*')"
   ]
  },
  {
   "cell_type": "code",
   "execution_count": 14,
   "metadata": {},
   "outputs": [
    {
     "name": "stdout",
     "output_type": "stream",
     "text": [
      "0 13\n"
     ]
    }
   ],
   "source": [
    "# https://www.acmicpc.net/problem/2566\n",
    "\n",
    "numbers = []\n",
    "\n",
    "for i in range(9):\n",
    "\n",
    "    num = list(map(int, input().split()))\n",
    "\n",
    "    numbers.extend(num)\n",
    "\n",
    "for idx, j in enumerate(numbers):\n",
    "    if max(numbers) == j:\n",
    "        print(j)\n",
    "        print((idx//9)+1, end = ' ')\n",
    "        print((idx%9)+1)"
   ]
  }
 ],
 "metadata": {
  "kernelspec": {
   "display_name": "Python 3",
   "language": "python",
   "name": "python3"
  },
  "language_info": {
   "codemirror_mode": {
    "name": "ipython",
    "version": 3
   },
   "file_extension": ".py",
   "mimetype": "text/x-python",
   "name": "python",
   "nbconvert_exporter": "python",
   "pygments_lexer": "ipython3",
   "version": "3.10.5"
  },
  "orig_nbformat": 4,
  "vscode": {
   "interpreter": {
    "hash": "26de051ba29f2982a8de78e945f0abaf191376122a1563185a90213a26c5da77"
   }
  }
 },
 "nbformat": 4,
 "nbformat_minor": 2
}
