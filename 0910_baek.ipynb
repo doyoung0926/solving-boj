{
 "cells": [
  {
   "cell_type": "code",
   "execution_count": 9,
   "id": "ac22dcf4",
   "metadata": {
    "collapsed": true
   },
   "outputs": [
    {
     "name": "stdout",
     "output_type": "stream",
     "text": [
      "5\n",
      "8 3 7 11 8\n",
      "2\n",
      "3\n",
      "4\n",
      "5\n",
      "6\n",
      "4\n",
      "5\n",
      "3\n",
      "4\n",
      "6\n",
      "7\n",
      "8\n",
      "9\n",
      "2\n",
      "3\n",
      "4\n",
      "5\n",
      "6\n"
     ]
    }
   ],
   "source": [
    "# https://www.acmicpc.net/problem/1978 (수정)\n",
    "\n",
    "N = int(input())\n",
    "\n",
    "a = []\n",
    "for i in range(N):\n",
    "    a.append('n'+str(i))\n",
    "    \n",
    "    \n",
    "a = list(map(int, input().split()))\n",
    "\n",
    "c= 0 \n",
    "for j in a:\n",
    "    for k in range(2, j):\n",
    "        if j % k != 1:\n",
    "            print(k)\n",
    "            \n",
    "\n",
    "        "
   ]
  },
  {
   "cell_type": "code",
   "execution_count": 1,
   "id": "2a91eb65",
   "metadata": {
    "collapsed": true
   },
   "outputs": [
    {
     "name": "stdout",
     "output_type": "stream",
     "text": [
      "\n"
     ]
    },
    {
     "ename": "ValueError",
     "evalue": "invalid literal for int() with base 10: ''",
     "output_type": "error",
     "traceback": [
      "\u001b[1;31m---------------------------------------------------------------------------\u001b[0m",
      "\u001b[1;31mValueError\u001b[0m                                Traceback (most recent call last)",
      "Input \u001b[1;32mIn [1]\u001b[0m, in \u001b[0;36m<cell line: 3>\u001b[1;34m()\u001b[0m\n\u001b[0;32m      1\u001b[0m \u001b[38;5;66;03m# 11653\u001b[39;00m\n\u001b[1;32m----> 3\u001b[0m N \u001b[38;5;241m=\u001b[39m \u001b[38;5;28;43mint\u001b[39;49m\u001b[43m(\u001b[49m\u001b[38;5;28;43minput\u001b[39;49m\u001b[43m(\u001b[49m\u001b[43m)\u001b[49m\u001b[43m)\u001b[49m\n\u001b[0;32m      4\u001b[0m nums\u001b[38;5;241m=\u001b[39m[N]\n\u001b[0;32m      5\u001b[0m \u001b[38;5;28;01mwhile\u001b[39;00m \u001b[38;5;28;01mTrue\u001b[39;00m:\n",
      "\u001b[1;31mValueError\u001b[0m: invalid literal for int() with base 10: ''"
     ]
    }
   ],
   "source": [
    "# https://www.acmicpc.net/problem/11653\n",
    "\n",
    "N = int(input())\n",
    "nums=[N]\n",
    "while True:\n",
    "    for i in range(2, nums[-1]+1):\n",
    "        if nums[-1] % i == 0:\n",
    "            print(i)\n",
    "            nums.append(nums[-1]//i)\n",
    "            break\n",
    "    if nums[-1] == 1:\n",
    "        break"
   ]
  },
  {
   "cell_type": "code",
   "execution_count": null,
   "id": "61f67e63",
   "metadata": {},
   "outputs": [],
   "source": [
    "# https://www.acmicpc.net/problem/1929 (수정)\n",
    "\n",
    "M, N = map(int, input().split())\n",
    "\n",
    "for i in range(M, N):\n",
    "    a = []\n",
    "    for j in range(2, i):\n",
    "        if i % j == 0:\n",
    "            a.append(j)\n",
    "    if len(a) == 0:\n",
    "        print(i)"
   ]
  }
 ],
 "metadata": {
  "kernelspec": {
   "display_name": "Python 3 (ipykernel)",
   "language": "python",
   "name": "python3"
  },
  "language_info": {
   "codemirror_mode": {
    "name": "ipython",
    "version": 3
   },
   "file_extension": ".py",
   "mimetype": "text/x-python",
   "name": "python",
   "nbconvert_exporter": "python",
   "pygments_lexer": "ipython3",
   "version": "3.9.12"
  }
 },
 "nbformat": 4,
 "nbformat_minor": 5
}
