{
 "cells": [
  {
   "cell_type": "code",
   "execution_count": 1,
   "id": "74116a7a",
   "metadata": {},
   "outputs": [],
   "source": [
    "# https://www.acmicpc.net/problem/2750\n",
    "\n",
    "\n",
    "N = int(input())\n",
    "\n",
    "nums=[]\n",
    "for i in range(N):\n",
    "    M = int(input())\n",
    "    nums.append(M)\n",
    "    \n",
    "nums.sort()\n",
    "for i in nums:\n",
    "    print(i)"
   ]
  },
  {
   "cell_type": "code",
   "execution_count": 2,
   "id": "dce65ae3",
   "metadata": {},
   "outputs": [],
   "source": [
    "# https://www.acmicpc.net/problem/5086\n",
    "\n",
    "\n",
    "while True:\n",
    "    A,B = map(int,input().split())\n",
    "    if (A == 0) and (B == 0):\n",
    "        break\n",
    "    elif B % A ==0:\n",
    "        print('factor')\n",
    "    elif A % B ==0:\n",
    "        print('multiple')\n",
    "    else:\n",
    "        print('neither')"
   ]
  },
  {
   "cell_type": "code",
   "execution_count": 3,
   "id": "a4e9e284",
   "metadata": {},
   "outputs": [],
   "source": [
    "# https://www.acmicpc.net/problem/1037\n",
    "\n",
    "N = int(input())\n",
    "\n",
    "nums=[]\n",
    "for i in range(N):\n",
    "    nums.append('n'+str(i))\n",
    "    \n",
    "nums = list(map(int, input().split()))\n",
    "nums.sort()\n",
    "print(nums[0]*nums[-1])"
   ]
  },
  {
   "cell_type": "code",
   "execution_count": 4,
   "id": "f130c660",
   "metadata": {},
   "outputs": [],
   "source": [
    "# https://www.acmicpc.net/problem/2609\n",
    "\n",
    "import math\n",
    "\n",
    "a, b = map(int, input().split())\n",
    "\n",
    "gcd = math.gcd(a, b)\n",
    "lcm = (a//gcd) * (b//gcd) * gcd  # math.lcm(a, b)\n",
    "\n",
    "print(gcd, lcm, sep = '\\n')"
   ]
  },
  {
   "cell_type": "code",
   "execution_count": 5,
   "id": "2c68ac55",
   "metadata": {},
   "outputs": [],
   "source": [
    "# https://www.acmicpc.net/problem/1934\n",
    "\n",
    "import math\n",
    "\n",
    "N = int(input())\n",
    "\n",
    "for i in range(N):\n",
    "    a, b = map(int, input().split())\n",
    "    print(math.lcm(a,b))"
   ]
  },
  {
   "cell_type": "code",
   "execution_count": 6,
   "id": "377a7239",
   "metadata": {},
   "outputs": [],
   "source": [
    "# https://www.acmicpc.net/problem/2981  # 런타임 에러\n",
    "\n",
    "import numpy as np\n",
    "\n",
    "N = int(input())\n",
    "\n",
    "nums = []\n",
    "for _ in range(N):\n",
    "    M = int(input())\n",
    "    nums.append(M)\n",
    "    \n",
    "nums.sort()\n",
    "\n",
    "for k in range(2, nums[0]+1):\n",
    "    a = np.array(nums)%k\n",
    "    if len(set(a)) == 1:\n",
    "        print(k, end = ' ')"
   ]
  },
  {
   "cell_type": "code",
   "execution_count": 7,
   "id": "77d3a43c",
   "metadata": {},
   "outputs": [],
   "source": [
    "# https://www.acmicpc.net/problem/3036\n",
    "\n",
    "import math\n",
    "\n",
    "N = int(input())\n",
    "\n",
    "nums=[]\n",
    "for i in range(N):\n",
    "    nums.append('n'+str(i))\n",
    "\n",
    "nums = list(map(int,input().split()))\n",
    "\n",
    "for nu in nums[1:]:\n",
    "    g = math.gcd(nums[0], nu)\n",
    "    print(f'{nums[0]//g}/{nu//g}')"
   ]
  },
  {
   "cell_type": "code",
   "execution_count": 8,
   "id": "ceb34e05",
   "metadata": {},
   "outputs": [],
   "source": [
    "# https://www.acmicpc.net/problem/11050\n",
    "\n",
    "N, K = map(int, input().split())\n",
    "\n",
    "ja = 1\n",
    "for i in range(N, 0, -1):\n",
    "    ja *= i\n",
    "    \n",
    "m1 = 1    \n",
    "for j in range(K, 0, -1):\n",
    "    m1 *= j\n",
    "\n",
    "m2 = 1\n",
    "for k in range(N-K, 0, -1):\n",
    "    m2 *= k\n",
    "    \n",
    "print(ja//(m1*m2))\n"
   ]
  },
  {
   "cell_type": "code",
   "execution_count": 9,
   "id": "6568b9bc",
   "metadata": {},
   "outputs": [],
   "source": [
    "# https://www.acmicpc.net/problem/11051\n",
    "\n",
    "N, K = map(int, input().split())\n",
    "\n",
    "ja = 1\n",
    "for i in range(N, 0, -1):\n",
    "    ja *= i\n",
    "    \n",
    "m1 = 1    \n",
    "for j in range(K, 0, -1):\n",
    "    m1 *= j\n",
    "\n",
    "m2 = 1\n",
    "for k in range(N-K, 0, -1):\n",
    "    m2 *= k\n",
    "\n",
    "t = (ja//(m1*m2))%10007\n",
    "print(t)"
   ]
  },
  {
   "cell_type": "code",
   "execution_count": 10,
   "id": "791e1da6",
   "metadata": {},
   "outputs": [],
   "source": [
    "# https://www.acmicpc.net/problem/1010\n",
    "\n",
    "M = int(input())\n",
    "\n",
    "for i in range(M):\n",
    "    K, N = map(int,input().split())\n",
    "    \n",
    "    ja = 1\n",
    "    for i in range(N, 0, -1):\n",
    "        ja *= i\n",
    "\n",
    "    m1 = 1    \n",
    "    for j in range(K, 0, -1):\n",
    "        m1 *= j\n",
    "\n",
    "    m2 = 1\n",
    "    for k in range(N-K, 0, -1):\n",
    "        m2 *= k\n",
    "\n",
    "    print(ja//(m1*m2))\n"
   ]
  },
  {
   "cell_type": "code",
   "execution_count": null,
   "id": "c064bc1d",
   "metadata": {},
   "outputs": [],
   "source": [
    "# https://www.acmicpc.net/problem/1085\n",
    "\n",
    "x, y, w, h = map(int, input().split())\n",
    "\n",
    "a = [x, y, w-x, h-y]\n",
    "a.sort()\n",
    "print(a[0])"
   ]
  }
 ],
 "metadata": {
  "kernelspec": {
   "display_name": "Python 3 (ipykernel)",
   "language": "python",
   "name": "python3"
  },
  "language_info": {
   "codemirror_mode": {
    "name": "ipython",
    "version": 3
   },
   "file_extension": ".py",
   "mimetype": "text/x-python",
   "name": "python",
   "nbconvert_exporter": "python",
   "pygments_lexer": "ipython3",
   "version": "3.9.12"
  }
 },
 "nbformat": 4,
 "nbformat_minor": 5
}
