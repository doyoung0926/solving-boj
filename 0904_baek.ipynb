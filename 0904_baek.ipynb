{
 "cells": [
  {
   "cell_type": "code",
   "execution_count": 24,
   "id": "48c5baf9",
   "metadata": {},
   "outputs": [
    {
     "name": "stdout",
     "output_type": "stream",
     "text": [
      "26\n"
     ]
    },
    {
     "data": {
      "text/plain": [
       "[[8, 14, 12, 6, 8, 14, 12, 6, 8, 14, 12, 6, 8]]"
      ]
     },
     "execution_count": 24,
     "metadata": {},
     "output_type": "execute_result"
    }
   ],
   "source": [
    "N = int(input())\n",
    "\n",
    "if N < 10:\n",
    "    N = int(str(0) + str(N))\n",
    "N_list = []\n",
    "A=N%10\n",
    "B=N//10\n",
    "N1 = (B%10)+(A%10)\n",
    "N2 = (A%10)+(N1%10)\n",
    "N3 = (N1%10)+(N2%10)\n",
    "N4 = (N2%10)+(N3%10)\n",
    "N5 = (N3%10)+(N4%10)\n",
    "N6 = (N4%10)+(N5%10)\n",
    "N7 = (N5%10)+(N6%10)\n",
    "N8 = (N6%10)+(N7%10)\n",
    "N9 = (N7%10)+(N8%10)\n",
    "N10 = (N8%10)+(N9%10)\n",
    "N11 = (N9%10)+(N10%10)\n",
    "N12 = (N10%10)+(N11%10)\n",
    "N13 = (N11%10)+(N12%10)\n",
    "\n",
    "N_list.append([N1,N2,N3,N4,N5,N6,N7,N8,N9,N10,N11,N12,N13])\n",
    "N_list"
   ]
  },
  {
   "cell_type": "code",
   "execution_count": 60,
   "id": "7d9f51ff",
   "metadata": {},
   "outputs": [
    {
     "name": "stdout",
     "output_type": "stream",
     "text": [
      "5\n",
      "25 35 20 7 16\n",
      "7 35\n"
     ]
    }
   ],
   "source": [
    "# https://www.acmicpc.net/problem/10818\n",
    "\n",
    "N = int(input())\n",
    "\n",
    "t=[]\n",
    "for i in range(N):\n",
    "    t.append(str(i))\n",
    "\n",
    "t = map(int, input().split())\n",
    "\n",
    "k=list(t)\n",
    "\n",
    "print(f'{min(k)} {max(k)}')"
   ]
  },
  {
   "cell_type": "code",
   "execution_count": 73,
   "id": "7d7ea016",
   "metadata": {},
   "outputs": [
    {
     "name": "stdout",
     "output_type": "stream",
     "text": [
      "3\n",
      "29\n",
      "38\n",
      "12\n",
      "57\n",
      "74\n",
      "40\n",
      "85\n",
      "61\n",
      "85\n",
      "8\n"
     ]
    }
   ],
   "source": [
    "# https://www.acmicpc.net/problem/2562\n",
    "\n",
    "b=[]\n",
    "for i in range(9):\n",
    "    a = int(input())\n",
    "    b.append(a)\n",
    "\n",
    "\n",
    "print(max(b), b.index(max(b))+1, sep='\\n')"
   ]
  },
  {
   "cell_type": "code",
   "execution_count": 9,
   "id": "22eed79c",
   "metadata": {},
   "outputs": [
    {
     "name": "stdout",
     "output_type": "stream",
     "text": [
      "42\n",
      "84\n",
      "252\n",
      "420\n",
      "840\n",
      "126\n",
      "42\n",
      "84\n",
      "420\n",
      "126\n",
      "1\n"
     ]
    }
   ],
   "source": [
    "# https://www.acmicpc.net/problem/3052\n",
    "\n",
    "N = []\n",
    "for i in range(10):\n",
    "    n = int(input())\n",
    "    N.append(n)\n",
    "\n",
    "R = []\n",
    "for i in N:\n",
    "    R.append(i%42)\n",
    "\n",
    "print(len(set(R)))"
   ]
  },
  {
   "cell_type": "code",
   "execution_count": 20,
   "id": "d10e56ad",
   "metadata": {},
   "outputs": [
    {
     "name": "stdout",
     "output_type": "stream",
     "text": [
      "3\n",
      "10 20 30\n",
      "66.66666666666667\n"
     ]
    }
   ],
   "source": [
    "# https://www.acmicpc.net/problem/1546\n",
    "\n",
    "N = int(input())\n",
    "\n",
    "k=[]\n",
    "for i in range(N):\n",
    "    k.append(str(i))\n",
    "\n",
    "k = map(int, input().split())\n",
    "k = list(k)\n",
    "print((sum(k)/len(k))*100/max(k))"
   ]
  },
  {
   "cell_type": "code",
   "execution_count": 15,
   "id": "d2432c43",
   "metadata": {},
   "outputs": [
    {
     "data": {
      "text/plain": [
       "2"
      ]
     },
     "execution_count": 15,
     "metadata": {},
     "output_type": "execute_result"
    }
   ],
   "source": [
    "# https://www.acmicpc.net/problem/8958\n",
    "\n",
    "c = int(input())\n",
    "\n",
    "for i in range(c):\n",
    "    n=input()\n",
    "    \n"
   ]
  },
  {
   "cell_type": "code",
   "execution_count": null,
   "id": "db8d6ef6",
   "metadata": {},
   "outputs": [],
   "source": []
  }
 ],
 "metadata": {
  "kernelspec": {
   "display_name": "Python 3 (ipykernel)",
   "language": "python",
   "name": "python3"
  },
  "language_info": {
   "codemirror_mode": {
    "name": "ipython",
    "version": 3
   },
   "file_extension": ".py",
   "mimetype": "text/x-python",
   "name": "python",
   "nbconvert_exporter": "python",
   "pygments_lexer": "ipython3",
   "version": "3.9.12"
  }
 },
 "nbformat": 4,
 "nbformat_minor": 5
}
