{
 "cells": [
  {
   "cell_type": "code",
   "execution_count": 2,
   "metadata": {},
   "outputs": [
    {
     "name": "stdout",
     "output_type": "stream",
     "text": [
      "10\n",
      "0\n"
     ]
    }
   ],
   "source": [
    "# https://www.acmicpc.net/problem/1271\n",
    "\n",
    "n, m = map(int, input().split())\n",
    "\n",
    "print(n//m)\n",
    "print(n%m)"
   ]
  },
  {
   "cell_type": "code",
   "execution_count": 3,
   "metadata": {},
   "outputs": [
    {
     "name": "stdout",
     "output_type": "stream",
     "text": [
      "13\n",
      "15\n",
      "14\n"
     ]
    }
   ],
   "source": [
    "# https://www.acmicpc.net/problem/1284\n",
    "\n",
    "while 1:\n",
    "    num = input()\n",
    "\n",
    "    if num == '0': break\n",
    "\n",
    "    sum = 1\n",
    "    for n in num:\n",
    "        if n == '1':\n",
    "            sum += 2\n",
    "        elif n == '0':\n",
    "            sum += 4\n",
    "        else:\n",
    "            sum += 3\n",
    "        sum += 1\n",
    "    \n",
    "    print(sum)"
   ]
  },
  {
   "cell_type": "code",
   "execution_count": 2,
   "metadata": {},
   "outputs": [],
   "source": [
    "# https://www.acmicpc.net/problem/1834   # 시간 초과\n",
    "\n",
    "import sys\n",
    "\n",
    "input = sys.stdin.readline\n",
    "\n",
    "N = int(input())\n",
    "\n",
    "sum = 0\n",
    "for n in range(1, N**2):\n",
    "    if n//N == n%N:\n",
    "        sum += n\n",
    "\n",
    "print(sum)"
   ]
  },
  {
   "cell_type": "code",
   "execution_count": null,
   "metadata": {},
   "outputs": [],
   "source": []
  }
 ],
 "metadata": {
  "kernelspec": {
   "display_name": "Python 3.10.5 64-bit",
   "language": "python",
   "name": "python3"
  },
  "language_info": {
   "codemirror_mode": {
    "name": "ipython",
    "version": 3
   },
   "file_extension": ".py",
   "mimetype": "text/x-python",
   "name": "python",
   "nbconvert_exporter": "python",
   "pygments_lexer": "ipython3",
   "version": "3.10.5"
  },
  "orig_nbformat": 4,
  "vscode": {
   "interpreter": {
    "hash": "26de051ba29f2982a8de78e945f0abaf191376122a1563185a90213a26c5da77"
   }
  }
 },
 "nbformat": 4,
 "nbformat_minor": 2
}
