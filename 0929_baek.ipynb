{
 "cells": [
  {
   "cell_type": "code",
   "execution_count": 9,
   "id": "357fd8a9",
   "metadata": {},
   "outputs": [
    {
     "name": "stdout",
     "output_type": "stream",
     "text": [
      "3\n",
      "0\n"
     ]
    }
   ],
   "source": [
    "# https://www.acmicpc.net/problem/1676\n",
    "\n",
    "N = int(input())\n",
    "\n",
    "nfact = 1\n",
    "for i in range(N, 0, -1):\n",
    "    nfact *= i\n",
    "    \n",
    "for j in range(len(str(nfact)), -1, -1):\n",
    "    if nfact % 10**j == 0:\n",
    "        print(j)\n",
    "        break"
   ]
  },
  {
   "cell_type": "code",
   "execution_count": 21,
   "id": "39296804",
   "metadata": {},
   "outputs": [
    {
     "name": "stdout",
     "output_type": "stream",
     "text": [
      "25 12\n",
      "2\n"
     ]
    }
   ],
   "source": [
    "# https://www.acmicpc.net/problem/2004   # 시간초과\n",
    "\n",
    "n, m = map(int, input().split())\n",
    "\n",
    "nfact=1\n",
    "mfact=1\n",
    "n_mfact=1\n",
    "\n",
    "for i in range(n, 0, -1):\n",
    "    nfact *= i\n",
    "    \n",
    "for j in range(m, 0, -1):\n",
    "    mfact *= j\n",
    "    \n",
    "for k in range(n-m, 0, -1):\n",
    "    n_mfact *= k\n",
    "    \n",
    "c = nfact // (mfact * n_mfact)\n",
    "\n",
    "for z in range(len(str(c))):\n",
    "    if str(c)[-z-1] != '0':\n",
    "        print(z)\n",
    "        break"
   ]
  },
  {
   "cell_type": "code",
   "execution_count": 13,
   "id": "a1a4c83f",
   "metadata": {},
   "outputs": [
    {
     "data": {
      "text/plain": [
       "120"
      ]
     },
     "execution_count": 13,
     "metadata": {},
     "output_type": "execute_result"
    }
   ],
   "source": [
    "c"
   ]
  },
  {
   "cell_type": "code",
   "execution_count": null,
   "id": "33dc5bf0",
   "metadata": {},
   "outputs": [],
   "source": []
  }
 ],
 "metadata": {
  "kernelspec": {
   "display_name": "Python 3 (ipykernel)",
   "language": "python",
   "name": "python3"
  },
  "language_info": {
   "codemirror_mode": {
    "name": "ipython",
    "version": 3
   },
   "file_extension": ".py",
   "mimetype": "text/x-python",
   "name": "python",
   "nbconvert_exporter": "python",
   "pygments_lexer": "ipython3",
   "version": "3.9.12"
  }
 },
 "nbformat": 4,
 "nbformat_minor": 5
}
