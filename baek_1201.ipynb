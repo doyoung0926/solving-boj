{
 "cells": [
  {
   "cell_type": "code",
   "execution_count": null,
   "metadata": {},
   "outputs": [],
   "source": [
    "# https://www.acmicpc.net/problem/11723\n",
    "\n",
    "import sys\n",
    "\n",
    "input = sys.stdin.readline\n",
    "\n",
    "M = int(input())\n",
    "\n",
    "sets = set()\n",
    "\n",
    "for _ in range(M):\n",
    "    \n",
    "    x = input().split()\n",
    "    \n",
    "    if x[0] == 'add':\n",
    "        if int(x[1]) not in sets:\n",
    "            sets.add(int(x[1]))\n",
    "    elif x[0] == 'remove':\n",
    "        if int(x[1]) in sets:\n",
    "            sets.remove(int(x[1]))\n",
    "    elif x[0] == 'check':\n",
    "        if int(x[1]) in sets:\n",
    "            print(1)\n",
    "        else:\n",
    "            print(0)\n",
    "    elif x[0] == 'toggle':\n",
    "        if int(x[1]) in sets:\n",
    "            sets.remove(int(x[1]))\n",
    "        else:\n",
    "            sets.add(int(x[1]))\n",
    "    elif x[0] == 'all':\n",
    "        sets = set(range(1, 21))\n",
    "    elif x[0] == 'empty':\n",
    "        sets = set()"
   ]
  },
  {
   "cell_type": "code",
   "execution_count": null,
   "metadata": {},
   "outputs": [],
   "source": [
    "# https://www.acmicpc.net/problem/1764   # 문제 이상함\n",
    "\n",
    "import sys\n",
    "input = sys.stdin.readline\n",
    "\n",
    "N, M = map(int, input().split())\n",
    "\n",
    "dd = [0] * N\n",
    "bb = [0] * M\n",
    "\n",
    "for num in range(N+M):\n",
    "    if 1 <= num <= N:\n",
    "        dd[num-1] = input().strip()\n",
    "    elif num == 0:\n",
    "        bb[0] = input().strip()\n",
    "    else:\n",
    "        bb[num-N] = input().strip()\n",
    "\n",
    "\n",
    "bb.sort()\n",
    "\n",
    "for idx in range(len(bb)):\n",
    "    print(idx)\n",
    "    print(bb[idx])\n",
    "    if bb[idx] not in dd:\n",
    "        bb.remove(bb[idx])\n",
    "        \n",
    "print(len(bb))\n",
    "print(bb)"
   ]
  },
  {
   "cell_type": "code",
   "execution_count": null,
   "metadata": {},
   "outputs": [],
   "source": []
  }
 ],
 "metadata": {
  "kernelspec": {
   "display_name": "Python 3.9.13 ('base')",
   "language": "python",
   "name": "python3"
  },
  "language_info": {
   "codemirror_mode": {
    "name": "ipython",
    "version": 3
   },
   "file_extension": ".py",
   "mimetype": "text/x-python",
   "name": "python",
   "nbconvert_exporter": "python",
   "pygments_lexer": "ipython3",
   "version": "3.9.13"
  },
  "orig_nbformat": 4,
  "vscode": {
   "interpreter": {
    "hash": "263930470851f494f0ed2879c35b57985588df20f9e529b86e97dd5eb9ddc466"
   }
  }
 },
 "nbformat": 4,
 "nbformat_minor": 2
}
