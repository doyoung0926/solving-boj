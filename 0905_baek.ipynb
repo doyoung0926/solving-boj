{
 "cells": [
  {
   "cell_type": "code",
   "execution_count": 20,
   "id": "22da1256",
   "metadata": {},
   "outputs": [
    {
     "name": "stdout",
     "output_type": "stream",
     "text": [
      "5\n",
      "OOXXOXXOOO\n",
      "OOXXOOXXOO\n",
      "OXOXOXOXOXOXOX\n",
      "OOOOOOOOOO\n",
      "OOOOXOOOOXOOOOX\n",
      "[6]\n",
      "[9]\n",
      "[7]\n",
      "[55]\n",
      "[30]\n"
     ]
    }
   ],
   "source": [
    "# https://www.acmicpc.net/problem/8958\n",
    "\n",
    "N = int(input())\n",
    "\n",
    "ss = []\n",
    "for i in range(N):\n",
    "    s = input()\n",
    "    ss.append(s)\n",
    "    \n",
    "for i in range(N):\n",
    "    score = []\n",
    "    if 'OOOOOOOOOO' in ss[i]:\n",
    "        score.append(55*(ss[i].count('OOOOOOOOOO')))\n",
    "    elif 'OOOOOOOOO' in ss[i]:\n",
    "        score.append(45*(ss[i].count('OOOOOOOOO')))\n",
    "    elif 'OOOOOOOO' in ss[i]:\n",
    "        score.append(36*(ss[i].count('OOOOOOOO')))\n",
    "    elif 'OOOOOOO' in ss[i]:\n",
    "        score.append(28*(ss[i].count('OOOOOOO')))\n",
    "    elif 'OOOOOO' in ss[i]:\n",
    "        score.append(21*(ss[i].count('OOOOOO')))\n",
    "    elif 'OOOOO' in ss[i]:\n",
    "        score.append(15*(ss[i].count('OOOOO')))\n",
    "    elif 'OOOO' in ss[i]:\n",
    "        score.append(10*(ss[i].count('OOOO')))\n",
    "    elif 'OOO' in ss[i]:\n",
    "        score.append(6*(ss[i].count('OOO')))9\n",
    "    elif 'OO' in ss[i]:\n",
    "        score.append(3*(ss[i].count('OO')))\n",
    "    elif 'O' in ss[i]:\n",
    "        score.append(1*(ss[i].count('O')))\n",
    "    print(score)"
   ]
  },
  {
   "cell_type": "code",
   "execution_count": 19,
   "id": "74d77494",
   "metadata": {
    "scrolled": false
   },
   "outputs": [
    {
     "name": "stdout",
     "output_type": "stream",
     "text": [
      "5\n",
      "OOXXOXXOOO\n",
      "OOXXOOXXOO\n",
      "OXOXOXOXOXOXOX\n",
      "OOOOOOOOOO\n",
      "OOOOXOOOOXOOOOX\n",
      "18\n",
      "15\n",
      "7\n",
      "278\n",
      "78\n"
     ]
    }
   ],
   "source": [
    "N = int(input())\n",
    "\n",
    "ss = []\n",
    "for i in range(N):\n",
    "    s = input()\n",
    "    ss.append(s)\n",
    "    \n",
    "for i in range(N):\n",
    "    score = []\n",
    "    score.append(55*(ss[i].count('OOOOOOOOOO')))\n",
    "    score.append(45*(ss[i].count('OOOOOOOOO')))\n",
    "    score.append(36*(ss[i].count('OOOOOOOO')))\n",
    "    score.append(28*(ss[i].count('OOOOOOO')))\n",
    "    score.append(21*(ss[i].count('OOOOOO')))\n",
    "    score.append(15*(ss[i].count('OOOOO')))\n",
    "    score.append(10*(ss[i].count('OOOO')))\n",
    "    score.append(6*(ss[i].count('OOO')))\n",
    "    score.append(3*(ss[i].count('OO')))\n",
    "    score.append(1*(ss[i].count('O')))\n",
    "    print(sum(score))"
   ]
  },
  {
   "cell_type": "code",
   "execution_count": 5,
   "id": "0f8ca6d3",
   "metadata": {},
   "outputs": [
    {
     "data": {
      "text/plain": [
       "8"
      ]
     },
     "execution_count": 5,
     "metadata": {},
     "output_type": "execute_result"
    }
   ],
   "source": [
    "sum([1,7])"
   ]
  },
  {
   "cell_type": "code",
   "execution_count": null,
   "id": "7fc20134",
   "metadata": {},
   "outputs": [],
   "source": []
  }
 ],
 "metadata": {
  "kernelspec": {
   "display_name": "Python 3 (ipykernel)",
   "language": "python",
   "name": "python3"
  },
  "language_info": {
   "codemirror_mode": {
    "name": "ipython",
    "version": 3
   },
   "file_extension": ".py",
   "mimetype": "text/x-python",
   "name": "python",
   "nbconvert_exporter": "python",
   "pygments_lexer": "ipython3",
   "version": "3.9.12"
  }
 },
 "nbformat": 4,
 "nbformat_minor": 5
}
