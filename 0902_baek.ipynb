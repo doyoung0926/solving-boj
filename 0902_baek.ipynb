{
 "cells": [
  {
   "cell_type": "code",
   "execution_count": 20,
   "id": "15abad0b",
   "metadata": {},
   "outputs": [
    {
     "name": "stdout",
     "output_type": "stream",
     "text": [
      "10 5\n"
     ]
    }
   ],
   "source": [
    "# https://www.acmicpc.net/problem/10871\n",
    "\n",
    "N , X = map(int, input().split())\n",
    "\n",
    "a = []\n",
    "for i in range(N):\n",
    "    a.append(f'x{i}')\n",
    "    \n",
    "a = map(int, input().split())\n",
    "\n",
    "b = []\n",
    "for i in a:\n",
    "    if X > i:\n",
    "        b.append(i)\n",
    "print(*b)"
   ]
  },
  {
   "cell_type": "code",
   "execution_count": 25,
   "id": "8044bab5",
   "metadata": {},
   "outputs": [
    {
     "name": "stdout",
     "output_type": "stream",
     "text": [
      "1 1\n",
      "2\n",
      "2 3\n",
      "5\n",
      "3 4\n",
      "7\n",
      "9 8\n",
      "17\n",
      "5 2\n",
      "7\n",
      "0 0\n"
     ]
    }
   ],
   "source": [
    "# https://www.acmicpc.net/problem/10952\n",
    "\n",
    "while True:\n",
    "    A, B = map(int, input().split())\n",
    "    if A == B ==0:\n",
    "        break\n",
    "    else:\n",
    "        print(A+B)"
   ]
  },
  {
   "cell_type": "code",
   "execution_count": 29,
   "id": "deafe429",
   "metadata": {},
   "outputs": [
    {
     "name": "stdout",
     "output_type": "stream",
     "text": [
      "1 1\n",
      "2\n",
      "2 3\n",
      "5\n",
      "3 4\n",
      "7\n",
      "9 8\n",
      "17\n",
      "5 2\n",
      "7\n"
     ]
    }
   ],
   "source": [
    "# https://www.acmicpc.net/problem/10951\n",
    "\n",
    "while True:\n",
    "    try:\n",
    "        A, B = map(int, input().split())\n",
    "        print(A+B)\n",
    "    except:\n",
    "        break"
   ]
  },
  {
   "cell_type": "code",
   "execution_count": null,
   "id": "506b7e91",
   "metadata": {},
   "outputs": [],
   "source": [
    "# https://www.acmicpc.net/problem/1110\n",
    "\n",
    "N = int(input())\n",
    "\n",
    "if N < 10:\n",
    "    N = int(str(0)+str(N))\n",
    "    \n",
    "for i in range(1, 1000):\n",
    "    N1 = (N//10) + (N%10)\n",
    "    N2 = (N%10) + (N1%10)\n",
    "    N3 = int(str(N1)+str(N2%10))\n",
    "    N4 = (N3//10) + (N3%10)\n",
    "    N5 = (N3%10) + (N4%10)\n",
    "    N6 = int(str(N4%10)+ str(N5%10))"
   ]
  },
  {
   "cell_type": "code",
   "execution_count": null,
   "id": "451f0324",
   "metadata": {},
   "outputs": [],
   "source": []
  }
 ],
 "metadata": {
  "kernelspec": {
   "display_name": "Python 3 (ipykernel)",
   "language": "python",
   "name": "python3"
  },
  "language_info": {
   "codemirror_mode": {
    "name": "ipython",
    "version": 3
   },
   "file_extension": ".py",
   "mimetype": "text/x-python",
   "name": "python",
   "nbconvert_exporter": "python",
   "pygments_lexer": "ipython3",
   "version": "3.9.12"
  }
 },
 "nbformat": 4,
 "nbformat_minor": 5
}
