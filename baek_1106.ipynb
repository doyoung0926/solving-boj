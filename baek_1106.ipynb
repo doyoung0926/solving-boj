{
 "cells": [
  {
   "cell_type": "code",
   "execution_count": 15,
   "metadata": {},
   "outputs": [],
   "source": [
    "# https://www.acmicpc.net/problem/2839  # 어렵\n",
    "\n",
    "import sys\n",
    "\n",
    "input = sys.stdin.readline\n",
    "\n",
    "N = int(input())\n",
    "\n",
    "cnt = 0\n",
    "\n",
    "while N>=0:\n",
    "    if N % 5 ==0:\n",
    "        cnt += N//5\n",
    "        print(cnt)\n",
    "        break\n",
    "    N -= 3\n",
    "    cnt += 1\n",
    "\n",
    "else:\n",
    "    print(-1)\n"
   ]
  }
 ],
 "metadata": {
  "kernelspec": {
   "display_name": "Python 3.9.13 ('streamlit')",
   "language": "python",
   "name": "python3"
  },
  "language_info": {
   "codemirror_mode": {
    "name": "ipython",
    "version": 3
   },
   "file_extension": ".py",
   "mimetype": "text/x-python",
   "name": "python",
   "nbconvert_exporter": "python",
   "pygments_lexer": "ipython3",
   "version": "3.9.13"
  },
  "orig_nbformat": 4,
  "vscode": {
   "interpreter": {
    "hash": "18936f251c67fdd6ecdf5410826388c1f6b1d5ccb4ab5eae8e10081fbe22b3ad"
   }
  }
 },
 "nbformat": 4,
 "nbformat_minor": 2
}
