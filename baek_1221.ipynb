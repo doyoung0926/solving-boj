{
 "cells": [
  {
   "cell_type": "code",
   "execution_count": 1,
   "metadata": {},
   "outputs": [
    {
     "name": "stdout",
     "output_type": "stream",
     "text": [
      " _________\n",
      " \\_     _/\n",
      "   \\   /\n",
      "    | |\n",
      "   /   \\\n",
      "  /     \\\n",
      " |       |\n",
      "/---------\\\n",
      "| \\-/ \\-/ |\n",
      "\\---------/\n",
      " \\_______/\n"
     ]
    }
   ],
   "source": [
    "# https://www.acmicpc.net/problem/2377   # 컴파일에러\n",
    "\n",
    "print(r''' _________\n",
    " \\_     _/\n",
    "   \\   /\n",
    "    | |\n",
    "   /   \\\n",
    "  /     \\\n",
    " |       |\n",
    "/---------\\\n",
    "| \\-/ \\-/ |\n",
    "\\---------/\n",
    " \\_______/''')"
   ]
  },
  {
   "cell_type": "code",
   "execution_count": 34,
   "metadata": {},
   "outputs": [
    {
     "name": "stdout",
     "output_type": "stream",
     "text": [
      "474747\n"
     ]
    }
   ],
   "source": [
    "# https://www.acmicpc.net/problem/1526\n",
    "\n",
    "import sys\n",
    "\n",
    "input = sys.stdin.readline\n",
    "\n",
    "N = int(input())\n",
    "\n",
    "for n in range(N, 1, -1):\n",
    "\n",
    "    if list(set(str(n))) in [['4'],['7'],['4','7'],['7','4']]:\n",
    "        print(n)\n",
    "        break\n"
   ]
  }
 ],
 "metadata": {
  "kernelspec": {
   "display_name": "Python 3.10.5 64-bit",
   "language": "python",
   "name": "python3"
  },
  "language_info": {
   "codemirror_mode": {
    "name": "ipython",
    "version": 3
   },
   "file_extension": ".py",
   "mimetype": "text/x-python",
   "name": "python",
   "nbconvert_exporter": "python",
   "pygments_lexer": "ipython3",
   "version": "3.10.5"
  },
  "orig_nbformat": 4,
  "vscode": {
   "interpreter": {
    "hash": "26de051ba29f2982a8de78e945f0abaf191376122a1563185a90213a26c5da77"
   }
  }
 },
 "nbformat": 4,
 "nbformat_minor": 2
}
