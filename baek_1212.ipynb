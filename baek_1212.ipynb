{
 "cells": [
  {
   "cell_type": "code",
   "execution_count": 1,
   "metadata": {},
   "outputs": [
    {
     "name": "stdout",
     "output_type": "stream",
     "text": [
      "Hello World, Judge 1!\n",
      "Hello World, Judge 2!\n",
      "Hello World, Judge 3!\n"
     ]
    }
   ],
   "source": [
    "# https://www.acmicpc.net/problem/9316\n",
    "\n",
    "N = int(input())\n",
    "\n",
    "for n in range(1,N+1):\n",
    "    print(f'Hello World, Judge {n}!')"
   ]
  },
  {
   "cell_type": "code",
   "execution_count": 2,
   "metadata": {},
   "outputs": [
    {
     "name": "stdout",
     "output_type": "stream",
     "text": [
      "0\n",
      "5\n",
      "110101\n",
      "-999999999\n"
     ]
    }
   ],
   "source": [
    "# https://www.acmicpc.net/problem/7891\n",
    "\n",
    "t = int(input())\n",
    "\n",
    "for _ in range(t):\n",
    "    a, b = map(int, input().split())\n",
    "\n",
    "    print(a+b)"
   ]
  },
  {
   "cell_type": "code",
   "execution_count": 3,
   "metadata": {},
   "outputs": [
    {
     "name": "stdout",
     "output_type": "stream",
     "text": [
      "YONSEI\n"
     ]
    }
   ],
   "source": [
    "# https://www.acmicpc.net/problem/15680\n",
    "\n",
    "N = int(input())\n",
    "\n",
    "if N == 0:\n",
    "    print('YONSEI')\n",
    "if N == 1:\n",
    "    print('Leading the Way to the Future')\n"
   ]
  },
  {
   "cell_type": "code",
   "execution_count": 1,
   "metadata": {},
   "outputs": [
    {
     "name": "stdout",
     "output_type": "stream",
     "text": [
      "2\n",
      "2\n",
      "0\n",
      "2\n",
      "1\n",
      "-1\n",
      "0\n",
      "1\n",
      "-1\n",
      "0\n",
      "3\n"
     ]
    }
   ],
   "source": [
    "# https://www.acmicpc.net/problem/10828\n",
    "\n",
    "import sys\n",
    "input = sys.stdin.readline\n",
    "\n",
    "N = int(input())\n",
    "\n",
    "result = []\n",
    "for _ in range(N):\n",
    "    value = input().split()\n",
    "\n",
    "    if value[0] == 'push':\n",
    "        result.append(value[1])\n",
    "    if value[0] == 'top':\n",
    "        if len(result) == 0:\n",
    "            print(-1)\n",
    "        else:\n",
    "            print(result[-1])\n",
    "    if value[0] == 'size':\n",
    "        print(len(result))\n",
    "    if value[0] == 'empty':\n",
    "        if len(result) == 0:\n",
    "            print(1)\n",
    "        else:\n",
    "            print(0)\n",
    "    if value[0] == 'pop':\n",
    "        if len(result) == 0:\n",
    "            print(-1)\n",
    "        else:\n",
    "            print(result[-1])\n",
    "            result = result[:-1]\n"
   ]
  },
  {
   "cell_type": "code",
   "execution_count": 5,
   "metadata": {},
   "outputs": [
    {
     "name": "stdout",
     "output_type": "stream",
     "text": [
      "1\n"
     ]
    }
   ],
   "source": [
    "# https://www.acmicpc.net/problem/2501\n",
    "\n",
    "N, K = map(int, input().split())\n",
    "\n",
    "a = []\n",
    "for i in range(1,N+1):\n",
    "    if N % i == 0:\n",
    "        a.append(i)\n",
    "\n",
    "if K <= len(a):\n",
    "    print(a[K-1])\n",
    "else:\n",
    "    print(0)"
   ]
  },
  {
   "cell_type": "code",
   "execution_count": 18,
   "metadata": {},
   "outputs": [
    {
     "name": "stdout",
     "output_type": "stream",
     "text": [
      "5\n",
      "7\n",
      "11\n",
      "101\n",
      "131\n",
      "151\n",
      "181\n",
      "191\n",
      "313\n",
      "353\n",
      "373\n",
      "383\n",
      "-1\n"
     ]
    }
   ],
   "source": [
    "# https://www.acmicpc.net/problem/1990   # 시간 초과\n",
    "\n",
    "import sys\n",
    "input = sys.stdin.readline\n",
    "\n",
    "a, b = map(int, input().split())\n",
    "\n",
    "for i in range(a, b):\n",
    "    cnt = 0\n",
    "    for j in range(2, i):\n",
    "        if i % j == 0:\n",
    "            cnt = 1\n",
    "    if cnt == 0:\n",
    "        if len(str(i)) == 1:\n",
    "            print(i)\n",
    "        elif len(str(i)) % 2 == 0:\n",
    "            if str(i)[:len(str(i))//2] == str(i)[-len(str(i))//2:][::-1]:\n",
    "                print(i)\n",
    "        else:\n",
    "            if str(i)[:(len(str(i))//2)+1] == str(i)[-(len(str(i))//2)-1:][::-1]:\n",
    "                print(i)\n",
    "print(-1)\n",
    "            \n",
    "\n",
    "# 다른 풀이\n",
    "\n",
    "a, b = map(int, input().split())\n",
    "\n",
    "for i in range(a, b):\n",
    "    cnt = 0\n",
    "    if len(str(i)) % 2 == 0:\n",
    "        if str(i)[:len(str(i))//2] == str(i)[-len(str(i))//2:][::-1]:\n",
    "            for j in range(2, i):\n",
    "                if i % j == 0:\n",
    "                    cnt = 1\n",
    "            if cnt == 0:\n",
    "                print(i)\n",
    "    else:\n",
    "        if str(i)[:(len(str(i))//2)+1] == str(i)[-(len(str(i))//2)-1:][::-1]:\n",
    "            for j in range(2, i):\n",
    "                if i % j == 0:\n",
    "                    cnt = 1\n",
    "            if cnt == 0:\n",
    "                print(i)\n",
    "print(-1)\n",
    "\n",
    "# 또 다른 풀이 \n",
    "\n",
    "a, b = map(int, input().split())\n",
    "\n",
    "for i in range(a, b):\n",
    "    cnt = 0\n",
    "    if str(i) == str(i)[::-1]:\n",
    "        for j in range(2, i):\n",
    "            if i % j == 0:\n",
    "                cnt = 1\n",
    "        if cnt == 0:\n",
    "            print(i)\n",
    "print(-1)"
   ]
  },
  {
   "cell_type": "code",
   "execution_count": 30,
   "metadata": {},
   "outputs": [
    {
     "name": "stdout",
     "output_type": "stream",
     "text": [
      "5\n",
      "7\n",
      "11\n",
      "101\n",
      "131\n",
      "151\n",
      "181\n",
      "191\n",
      "313\n",
      "353\n",
      "373\n",
      "383\n",
      "-1\n"
     ]
    }
   ],
   "source": [
    "a, b = map(int, input().split())\n",
    "\n",
    "for i in range(a, b):\n",
    "    cnt = 0\n",
    "    if str(i) == str(i)[::-1]:\n",
    "        for j in range(2, i):\n",
    "            if i % j == 0:\n",
    "                cnt = 1\n",
    "        if cnt == 0:\n",
    "            print(i)\n",
    "print(-1)\n",
    "\n",
    "    "
   ]
  },
  {
   "cell_type": "code",
   "execution_count": 20,
   "metadata": {},
   "outputs": [
    {
     "data": {
      "text/plain": [
       "'1'"
      ]
     },
     "execution_count": 20,
     "metadata": {},
     "output_type": "execute_result"
    }
   ],
   "source": [
    "'1'[-1:]"
   ]
  },
  {
   "cell_type": "code",
   "execution_count": null,
   "metadata": {},
   "outputs": [],
   "source": []
  }
 ],
 "metadata": {
  "kernelspec": {
   "display_name": "ff38",
   "language": "python",
   "name": "python3"
  },
  "language_info": {
   "codemirror_mode": {
    "name": "ipython",
    "version": 3
   },
   "file_extension": ".py",
   "mimetype": "text/x-python",
   "name": "python",
   "nbconvert_exporter": "python",
   "pygments_lexer": "ipython3",
   "version": "3.8.15"
  },
  "orig_nbformat": 4,
  "vscode": {
   "interpreter": {
    "hash": "134a072d5721038f7a0566ad89b8f20ad013922691df7c94a07b0dcd69bf1785"
   }
  }
 },
 "nbformat": 4,
 "nbformat_minor": 2
}
