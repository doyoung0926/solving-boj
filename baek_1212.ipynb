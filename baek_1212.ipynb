{
 "cells": [
  {
   "cell_type": "code",
   "execution_count": 1,
   "metadata": {},
   "outputs": [
    {
     "name": "stdout",
     "output_type": "stream",
     "text": [
      "Hello World, Judge 1!\n",
      "Hello World, Judge 2!\n",
      "Hello World, Judge 3!\n"
     ]
    }
   ],
   "source": [
    "# https://www.acmicpc.net/problem/9316\n",
    "\n",
    "N = int(input())\n",
    "\n",
    "for n in range(1,N+1):\n",
    "    print(f'Hello World, Judge {n}!')"
   ]
  },
  {
   "cell_type": "code",
   "execution_count": 2,
   "metadata": {},
   "outputs": [
    {
     "name": "stdout",
     "output_type": "stream",
     "text": [
      "0\n",
      "5\n",
      "110101\n",
      "-999999999\n"
     ]
    }
   ],
   "source": [
    "# https://www.acmicpc.net/problem/7891\n",
    "\n",
    "t = int(input())\n",
    "\n",
    "for _ in range(t):\n",
    "    a, b = map(int, input().split())\n",
    "\n",
    "    print(a+b)"
   ]
  },
  {
   "cell_type": "code",
   "execution_count": 3,
   "metadata": {},
   "outputs": [
    {
     "name": "stdout",
     "output_type": "stream",
     "text": [
      "YONSEI\n"
     ]
    }
   ],
   "source": [
    "# https://www.acmicpc.net/problem/15680\n",
    "\n",
    "N = int(input())\n",
    "\n",
    "if N == 0:\n",
    "    print('YONSEI')\n",
    "if N == 1:\n",
    "    print('Leading the Way to the Future')\n"
   ]
  },
  {
   "cell_type": "code",
   "execution_count": 1,
   "metadata": {},
   "outputs": [
    {
     "name": "stdout",
     "output_type": "stream",
     "text": [
      "2\n",
      "2\n",
      "0\n",
      "2\n",
      "1\n",
      "-1\n",
      "0\n",
      "1\n",
      "-1\n",
      "0\n",
      "3\n"
     ]
    }
   ],
   "source": [
    "# https://www.acmicpc.net/problem/10828\n",
    "\n",
    "import sys\n",
    "input = sys.stdin.readline\n",
    "\n",
    "N = int(input())\n",
    "\n",
    "result = []\n",
    "for _ in range(N):\n",
    "    value = input().split()\n",
    "\n",
    "    if value[0] == 'push':\n",
    "        result.append(value[1])\n",
    "    if value[0] == 'top':\n",
    "        if len(result) == 0:\n",
    "            print(-1)\n",
    "        else:\n",
    "            print(result[-1])\n",
    "    if value[0] == 'size':\n",
    "        print(len(result))\n",
    "    if value[0] == 'empty':\n",
    "        if len(result) == 0:\n",
    "            print(1)\n",
    "        else:\n",
    "            print(0)\n",
    "    if value[0] == 'pop':\n",
    "        if len(result) == 0:\n",
    "            print(-1)\n",
    "        else:\n",
    "            print(result[-1])\n",
    "            result = result[:-1]\n"
   ]
  },
  {
   "cell_type": "code",
   "execution_count": 5,
   "metadata": {},
   "outputs": [
    {
     "name": "stdout",
     "output_type": "stream",
     "text": [
      "1\n"
     ]
    }
   ],
   "source": [
    "# https://www.acmicpc.net/problem/2501\n",
    "\n",
    "N, K = map(int, input().split())\n",
    "\n",
    "a = []\n",
    "for i in range(1,N+1):\n",
    "    if N % i == 0:\n",
    "        a.append(i)\n",
    "\n",
    "if K <= len(a):\n",
    "    print(a[K-1])\n",
    "else:\n",
    "    print(0)"
   ]
  },
  {
   "cell_type": "code",
   "execution_count": 18,
   "metadata": {},
   "outputs": [
    {
     "name": "stdout",
     "output_type": "stream",
     "text": [
      "5\n",
      "7\n",
      "11\n",
      "101\n",
      "131\n",
      "151\n",
      "181\n",
      "191\n",
      "313\n",
      "353\n",
      "373\n",
      "383\n",
      "-1\n"
     ]
    }
   ],
   "source": [
    "# https://www.acmicpc.net/problem/1990   # 시간 초과\n",
    "\n",
    "import sys\n",
    "input = sys.stdin.readline\n",
    "\n",
    "a, b = map(int, input().split())\n",
    "\n",
    "for i in range(a, b):\n",
    "    cnt = 0\n",
    "    for j in range(2, i):\n",
    "        if i % j == 0:\n",
    "            cnt = 1\n",
    "    if cnt == 0:\n",
    "        if len(str(i)) == 1:\n",
    "            print(i)\n",
    "        elif len(str(i)) % 2 == 0:\n",
    "            if str(i)[:len(str(i))//2] == str(i)[-len(str(i))//2:][::-1]:\n",
    "                print(i)\n",
    "        else:\n",
    "            if str(i)[:(len(str(i))//2)+1] == str(i)[-(len(str(i))//2)-1:][::-1]:\n",
    "                print(i)\n",
    "print(-1)\n",
    "            \n",
    "\n",
    "# 다른 풀이\n",
    "\n",
    "a, b = map(int, input().split())\n",
    "\n",
    "for i in range(a, b):\n",
    "    cnt = 0\n",
    "    if len(str(i)) % 2 == 0:\n",
    "        if str(i)[:len(str(i))//2] == str(i)[-len(str(i))//2:][::-1]:\n",
    "            for j in range(2, i):\n",
    "                if i % j == 0:\n",
    "                    cnt = 1\n",
    "            if cnt == 0:\n",
    "                print(i)\n",
    "    else:\n",
    "        if str(i)[:(len(str(i))//2)+1] == str(i)[-(len(str(i))//2)-1:][::-1]:\n",
    "            for j in range(2, i):\n",
    "                if i % j == 0:\n",
    "                    cnt = 1\n",
    "            if cnt == 0:\n",
    "                print(i)\n",
    "print(-1)\n",
    "\n",
    "# 또 다른 풀이 \n",
    "\n",
    "a, b = map(int, input().split())\n",
    "\n",
    "for i in range(a, b):\n",
    "    cnt = 0\n",
    "    if str(i) == str(i)[::-1]:\n",
    "        for j in range(2, i):\n",
    "            if i % j == 0:\n",
    "                cnt = 1\n",
    "        if cnt == 0:\n",
    "            print(i)\n",
    "print(-1)"
   ]
  },
  {
   "cell_type": "code",
   "execution_count": 12,
   "metadata": {},
   "outputs": [
    {
     "name": "stdout",
     "output_type": "stream",
     "text": [
      "1011111\n"
     ]
    }
   ],
   "source": [
    "# https://www.acmicpc.net/problem/1252\n",
    "\n",
    "a, b = map(str, input().split())\n",
    "\n",
    "a = a[::-1]\n",
    "b = b[::-1]\n",
    "sum = 0\n",
    "for idx, i in enumerate(a):\n",
    "    sum += int(i)*(2**idx)\n",
    "\n",
    "for idy, j in enumerate(b):\n",
    "    sum += int(j)*(2**idy)\n",
    "\n",
    "print(bin(sum)[2:])"
   ]
  },
  {
   "cell_type": "code",
   "execution_count": 14,
   "metadata": {},
   "outputs": [
    {
     "ename": "ValueError",
     "evalue": "invalid literal for int() with base 10: ''",
     "output_type": "error",
     "traceback": [
      "\u001b[1;31m---------------------------------------------------------------------------\u001b[0m",
      "\u001b[1;31mValueError\u001b[0m                                Traceback (most recent call last)",
      "Cell \u001b[1;32mIn [14], line 3\u001b[0m\n\u001b[0;32m      1\u001b[0m \u001b[39m# https://www.acmicpc.net/problem/1247\u001b[39;00m\n\u001b[1;32m----> 3\u001b[0m N \u001b[39m=\u001b[39m \u001b[39mint\u001b[39;49m(\u001b[39minput\u001b[39;49m())\n\u001b[0;32m      4\u001b[0m N_num \u001b[39m=\u001b[39m [\u001b[39m0\u001b[39m] \u001b[39m*\u001b[39m N\n\u001b[0;32m      5\u001b[0m \u001b[39mfor\u001b[39;00m n \u001b[39min\u001b[39;00m \u001b[39mrange\u001b[39m(N):\n",
      "\u001b[1;31mValueError\u001b[0m: invalid literal for int() with base 10: ''"
     ]
    }
   ],
   "source": [
    "# https://www.acmicpc.net/problem/1247   # 런타임 에러\n",
    "\n",
    "N = int(input())\n",
    "N_num = [0] * N\n",
    "for n in range(N):\n",
    "    N[n] = int(input())\n",
    "\n",
    "M = int(input())\n",
    "M_num = [0] * M\n",
    "for m in range(M):\n",
    "    M[m] = int(input())\n",
    "\n",
    "L = int(input())\n",
    "L_num = [0] * L\n",
    "for l in range(L):\n",
    "    L[l] = int(input())\n",
    "\n",
    "if sum(N_num) > 0: print('+')\n",
    "if sum(N_num) == 0: print('0')\n",
    "if sum(N_num) < 0: print('-')\n",
    "\n",
    "if sum(M_num) > 0: print('+')\n",
    "if sum(M_num) == 0: print('0')\n",
    "if sum(M_num) < 0: print('-')\n",
    "\n",
    "if sum(L_num) > 0: print('+')\n",
    "if sum(L_num) == 0: print('0')\n",
    "if sum(L_num) < 0: print('-')\n"
   ]
  },
  {
   "cell_type": "code",
   "execution_count": 20,
   "metadata": {},
   "outputs": [
    {
     "name": "stdout",
     "output_type": "stream",
     "text": [
      "*****\n",
      " ****\n",
      "  ***\n",
      "   **\n",
      "    *\n"
     ]
    }
   ],
   "source": [
    "# https://www.acmicpc.net/problem/2441\n",
    "\n",
    "N = int(input())\n",
    "\n",
    "for i in range(N):\n",
    "    print(' '*i+'*'*(N-i))"
   ]
  },
  {
   "cell_type": "code",
   "execution_count": 21,
   "metadata": {},
   "outputs": [
    {
     "name": "stdout",
     "output_type": "stream",
     "text": [
      "    *\n",
      "   ***\n",
      "  *****\n",
      " *******\n",
      "*********\n"
     ]
    }
   ],
   "source": [
    "# https://www.acmicpc.net/problem/2442\n",
    "\n",
    "N = int(input())\n",
    "\n",
    "for i in range(N):\n",
    "    print((N-1-i)*' '+((2*i)+1)*'*')"
   ]
  },
  {
   "cell_type": "code",
   "execution_count": 19,
   "metadata": {},
   "outputs": [
    {
     "name": "stdout",
     "output_type": "stream",
     "text": [
      "*\n",
      "**\n",
      "***\n",
      "****\n",
      "*****\n",
      "****\n",
      "***\n",
      "**\n",
      "*\n"
     ]
    }
   ],
   "source": [
    "# https://www.acmicpc.net/problem/2523\n",
    "\n",
    "N = int(input())\n",
    "\n",
    "for i in range((2*N)-1):\n",
    "    if i <= N-1:\n",
    "        print((i+1)*'*')\n",
    "    else:\n",
    "        print(((2*N)-i-1)*'*')"
   ]
  },
  {
   "cell_type": "code",
   "execution_count": 22,
   "metadata": {},
   "outputs": [
    {
     "name": "stdout",
     "output_type": "stream",
     "text": [
      "*********\n",
      " *******\n",
      "  *****\n",
      "   ***\n",
      "    *\n"
     ]
    }
   ],
   "source": [
    "# https://www.acmicpc.net/problem/2443\n",
    "\n",
    "N = int(input())\n",
    "\n",
    "for i in range(N):\n",
    "    print(' '*i+'*'*(2*(N-i)-1))"
   ]
  },
  {
   "cell_type": "code",
   "execution_count": 23,
   "metadata": {},
   "outputs": [
    {
     "name": "stdout",
     "output_type": "stream",
     "text": [
      "ECNALUBMA\n",
      "naivE\n",
      "mada m'i ,madam\n"
     ]
    }
   ],
   "source": [
    "# https://www.acmicpc.net/problem/4740\n",
    "\n",
    "while 1:\n",
    "    S = input()\n",
    "\n",
    "    if S == '***': break\n",
    "\n",
    "    print(S[::-1])"
   ]
  },
  {
   "cell_type": "code",
   "execution_count": 39,
   "metadata": {},
   "outputs": [
    {
     "data": {
      "text/plain": [
       "7"
      ]
     },
     "execution_count": 39,
     "metadata": {},
     "output_type": "execute_result"
    }
   ],
   "source": [
    "import numpy as np\n",
    "a = list(map(int, input().split()))\n",
    "\n",
    "np.sum(a)"
   ]
  },
  {
   "cell_type": "code",
   "execution_count": null,
   "metadata": {},
   "outputs": [],
   "source": []
  }
 ],
 "metadata": {
  "kernelspec": {
   "display_name": "ff38",
   "language": "python",
   "name": "python3"
  },
  "language_info": {
   "codemirror_mode": {
    "name": "ipython",
    "version": 3
   },
   "file_extension": ".py",
   "mimetype": "text/x-python",
   "name": "python",
   "nbconvert_exporter": "python",
   "pygments_lexer": "ipython3",
   "version": "3.8.15"
  },
  "orig_nbformat": 4,
  "vscode": {
   "interpreter": {
    "hash": "134a072d5721038f7a0566ad89b8f20ad013922691df7c94a07b0dcd69bf1785"
   }
  }
 },
 "nbformat": 4,
 "nbformat_minor": 2
}
