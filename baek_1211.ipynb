{
 "cells": [
  {
   "cell_type": "code",
   "execution_count": 8,
   "metadata": {},
   "outputs": [
    {
     "name": "stdout",
     "output_type": "stream",
     "text": [
      "yes\n",
      "no\n",
      "yes\n"
     ]
    }
   ],
   "source": [
    "# https://www.acmicpc.net/problem/1259\n",
    "\n",
    "while 1:\n",
    "    \n",
    "    num = input()\n",
    "    if num == '0': break\n",
    "\n",
    "    elif len(num) % 2 == 0:\n",
    "        if num[:len(num)//2] == num[len(num)//2:][::-1]:\n",
    "            print('yes')\n",
    "        else:\n",
    "            print('no')\n",
    "    else:\n",
    "        if num[:(len(num)//2)+1] == num[len(num)//2:][::-1]:\n",
    "            print('yes')\n",
    "        else:\n",
    "            print('no')"
   ]
  },
  {
   "cell_type": "code",
   "execution_count": 13,
   "metadata": {},
   "outputs": [
    {
     "name": "stdout",
     "output_type": "stream",
     "text": [
      "1\n",
      "1\n",
      "0\n",
      "0\n",
      "1\n"
     ]
    }
   ],
   "source": [
    "# https://www.acmicpc.net/problem/1920   # 이해가 안됨\n",
    "\n",
    "# https://chancoding.tistory.com/44 이분탐색 공부해보기\n",
    "\n",
    "import sys\n",
    "input = sys.stdin.readline\n",
    "\n",
    "N = input()\n",
    "N_num = sorted(map(int, input().split()))\n",
    "M = input()\n",
    "M_num = map(int, input().split())\n",
    "\n",
    "def binary(l, N_num, start, end):\n",
    "    if start > end:\n",
    "        return 0\n",
    "    M = (start+end)//2\n",
    "    if l == N_num[M]:\n",
    "        return 1\n",
    "    elif l < N_num[M]:\n",
    "        return binary(l, N_num, start, M-1)\n",
    "    else:\n",
    "        return binary(l, N_num, M+1, end)\n",
    "\n",
    "for l in M_num:\n",
    "    start=0\n",
    "    end=len(N_num)-1\n",
    "    print(binary(l,N_num,start,end))"
   ]
  },
  {
   "cell_type": "code",
   "execution_count": 14,
   "metadata": {},
   "outputs": [],
   "source": [
    "a = map(int, input().split())"
   ]
  },
  {
   "cell_type": "code",
   "execution_count": 15,
   "metadata": {},
   "outputs": [
    {
     "data": {
      "text/plain": [
       "<map at 0x1c277413430>"
      ]
     },
     "execution_count": 15,
     "metadata": {},
     "output_type": "execute_result"
    }
   ],
   "source": [
    "a"
   ]
  },
  {
   "cell_type": "code",
   "execution_count": null,
   "metadata": {},
   "outputs": [],
   "source": []
  }
 ],
 "metadata": {
  "kernelspec": {
   "display_name": "ff38",
   "language": "python",
   "name": "python3"
  },
  "language_info": {
   "codemirror_mode": {
    "name": "ipython",
    "version": 3
   },
   "file_extension": ".py",
   "mimetype": "text/x-python",
   "name": "python",
   "nbconvert_exporter": "python",
   "pygments_lexer": "ipython3",
   "version": "3.8.15"
  },
  "orig_nbformat": 4,
  "vscode": {
   "interpreter": {
    "hash": "134a072d5721038f7a0566ad89b8f20ad013922691df7c94a07b0dcd69bf1785"
   }
  }
 },
 "nbformat": 4,
 "nbformat_minor": 2
}
