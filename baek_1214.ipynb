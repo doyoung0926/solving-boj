{
 "cells": [
  {
   "cell_type": "code",
   "execution_count": 7,
   "metadata": {},
   "outputs": [
    {
     "name": "stdout",
     "output_type": "stream",
     "text": [
      "54\n"
     ]
    }
   ],
   "source": [
    "# https://www.acmicpc.net/problem/1225   # 메모리 초과\n",
    "\n",
    "from itertools import product\n",
    "\n",
    "A, B = map(str, input().split())\n",
    "\n",
    "a_li = [i for i in A]\n",
    "b_li = [j for j in B]\n",
    "\n",
    "items = [a_li, b_li]\n",
    "\n",
    "sum = 0\n",
    "for k in list(product(*items)):\n",
    "    sum += int(k[0]) * int(k[1])\n",
    "\n",
    "print(sum)"
   ]
  },
  {
   "cell_type": "code",
   "execution_count": 18,
   "metadata": {},
   "outputs": [
    {
     "name": "stdout",
     "output_type": "stream",
     "text": [
      "BAD 11\n"
     ]
    }
   ],
   "source": [
    "# https://www.acmicpc.net/problem/2061   # 시간 초과\n",
    "\n",
    "import math\n",
    "\n",
    "K, L = map(int, input().split())\n",
    "\n",
    "if K % L == 0:\n",
    "    print('GOOD')\n",
    "else:\n",
    "    for i in range(1, math.ceil(K**(1/2))):\n",
    "        cnt = 0\n",
    "        for j in range(2, i):\n",
    "            if i % j == 0:\n",
    "                cnt = 1\n",
    "\n",
    "        if cnt == 0:\n",
    "            if K % i == 0:\n",
    "                t = i\n",
    "    print('BAD', t)\n"
   ]
  },
  {
   "cell_type": "code",
   "execution_count": 1,
   "metadata": {},
   "outputs": [
    {
     "name": "stdout",
     "output_type": "stream",
     "text": [
      "15\n"
     ]
    }
   ],
   "source": [
    "# https://www.acmicpc.net/problem/1292\n",
    "\n",
    "a = [i for i in range(46) for j in range(i)]\n",
    "\n",
    "A, B = map(int, input().split())\n",
    "\n",
    "print(sum([a[k] for k in range(A-1, B)]))"
   ]
  },
  {
   "cell_type": "code",
   "execution_count": 38,
   "metadata": {},
   "outputs": [
    {
     "name": "stdout",
     "output_type": "stream",
     "text": [
      "2 17\n"
     ]
    }
   ],
   "source": [
    "# https://www.acmicpc.net/problem/2953\n",
    "\n",
    "b = []\n",
    "for _ in range(5):\n",
    "    a = list(map(int, input().split()))\n",
    "\n",
    "    b.append(sum(a))\n",
    "\n",
    "k = [i+1 for i, j in enumerate(b) if max(b) == j]\n",
    "\n",
    "print(*k, max(b))"
   ]
  }
 ],
 "metadata": {
  "kernelspec": {
   "display_name": "ff38",
   "language": "python",
   "name": "python3"
  },
  "language_info": {
   "codemirror_mode": {
    "name": "ipython",
    "version": 3
   },
   "file_extension": ".py",
   "mimetype": "text/x-python",
   "name": "python",
   "nbconvert_exporter": "python",
   "pygments_lexer": "ipython3",
   "version": "3.8.15"
  },
  "orig_nbformat": 4,
  "vscode": {
   "interpreter": {
    "hash": "134a072d5721038f7a0566ad89b8f20ad013922691df7c94a07b0dcd69bf1785"
   }
  }
 },
 "nbformat": 4,
 "nbformat_minor": 2
}
