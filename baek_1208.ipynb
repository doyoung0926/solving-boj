{
 "cells": [
  {
   "cell_type": "code",
   "execution_count": 26,
   "metadata": {},
   "outputs": [
    {
     "name": "stdout",
     "output_type": "stream",
     "text": [
      "a\n"
     ]
    }
   ],
   "source": [
    "# https://www.acmicpc.net/problem/1371   # 실패\n",
    "\n",
    "# import sys\n",
    "# input = sys.stdin.readline\n",
    "\n",
    "S = input()\n",
    "\n",
    "dic = {}\n",
    "\n",
    "for chr in S:\n",
    "    if chr != ' ':\n",
    "        if chr in dic:\n",
    "            dic[chr] += 1\n",
    "        else:\n",
    "            dic[chr] = 1\n",
    "\n",
    "result = sorted(dic.items(), key=lambda x: x[1], reverse=True)\n",
    "\n",
    "ended = []\n",
    "for value in result:\n",
    "    if result[0][1] == value[1]:\n",
    "        ended.append(value[0])\n",
    "    else:\n",
    "        break\n",
    "\n",
    "ended.sort()\n",
    "print(''.join(ended))"
   ]
  },
  {
   "cell_type": "code",
   "execution_count": 32,
   "metadata": {},
   "outputs": [],
   "source": [
    "# https://www.acmicpc.net/problem/4458\n",
    "\n",
    "N = int(input())\n",
    "\n",
    "for _ in range(N):\n",
    "    S = input()\n",
    "    print(S[0].upper()+S[1:])"
   ]
  },
  {
   "cell_type": "code",
   "execution_count": 4,
   "metadata": {},
   "outputs": [
    {
     "name": "stdout",
     "output_type": "stream",
     "text": [
      "6 2 4\n"
     ]
    }
   ],
   "source": [
    "# https://www.acmicpc.net/problem/3047\n",
    "\n",
    "num = list(map(int, input().split()))\n",
    "chr = input()\n",
    "\n",
    "num.sort()\n",
    "\n",
    "result=[]\n",
    "for i in chr:\n",
    "    if i == 'A':\n",
    "        result.append(num[0])\n",
    "    if i == 'B':\n",
    "        result.append(num[1])\n",
    "    if i == 'C':\n",
    "        result.append(num[2])\n",
    "\n",
    "print(*result, sep=' ')\n"
   ]
  },
  {
   "cell_type": "code",
   "execution_count": 5,
   "metadata": {},
   "outputs": [
    {
     "name": "stdout",
     "output_type": "stream",
     "text": [
      "1. Lionel Cosgrove\n",
      "2. Alice\n",
      "3. Columbus and Tallahassee\n",
      "4. Shaun and Ed\n",
      "5. Fido\n"
     ]
    }
   ],
   "source": [
    "# https://www.acmicpc.net/problem/4470\n",
    "\n",
    "N = int(input())\n",
    "\n",
    "for i in range(1, N+1):\n",
    "    S = input()\n",
    "    print(f'{i}. {S}')"
   ]
  },
  {
   "cell_type": "code",
   "execution_count": 7,
   "metadata": {},
   "outputs": [
    {
     "name": "stdout",
     "output_type": "stream",
     "text": [
      "1 is NOT a multiple of 3.\n",
      "7 is NOT a multiple of 3.\n",
      "99 is a multiple of 3.\n",
      "321 is a multiple of 3.\n",
      "777 is a multiple of 3.\n"
     ]
    }
   ],
   "source": [
    "# https://www.acmicpc.net/problem/4504\n",
    "\n",
    "n = int(input())\n",
    "\n",
    "while True:\n",
    "    num = int(input())\n",
    "    if num == 0: break\n",
    "    if num % n == 0:\n",
    "        print(f'{num} is a multiple of {n}.')\n",
    "    elif num % n != 0:\n",
    "        print(f'{num} is NOT a multiple of {n}.')"
   ]
  },
  {
   "cell_type": "code",
   "execution_count": 11,
   "metadata": {},
   "outputs": [
    {
     "name": "stdout",
     "output_type": "stream",
     "text": [
      "even\n"
     ]
    }
   ],
   "source": [
    "# https://www.acmicpc.net/problem/5988\n",
    "\n",
    "N = int(input())\n",
    "\n",
    "for _ in range(N):\n",
    "    num = int(input())\n",
    "    if num % 2 == 0:\n",
    "        print('even')\n",
    "    else:\n",
    "        print('odd')"
   ]
  },
  {
   "cell_type": "code",
   "execution_count": 17,
   "metadata": {},
   "outputs": [
    {
     "name": "stdout",
     "output_type": "stream",
     "text": [
      "Scalene\n"
     ]
    }
   ],
   "source": [
    "# https://www.acmicpc.net/problem/10101\n",
    "\n",
    "num = [0] * 3\n",
    "for _ in range(3):\n",
    "    num[_] = int(input())\n",
    "\n",
    "if sum(num) != 180:\n",
    "    print('Error')\n",
    "else:\n",
    "    if len(set(num)) == 1:\n",
    "        print('Equilateral')\n",
    "    elif len(set(num)) == 2:\n",
    "        print('Isosceles')\n",
    "    else:\n",
    "        print('Scalene')"
   ]
  },
  {
   "cell_type": "code",
   "execution_count": 22,
   "metadata": {},
   "outputs": [
    {
     "name": "stdout",
     "output_type": "stream",
     "text": [
      "4\n"
     ]
    }
   ],
   "source": [
    "# https://www.acmicpc.net/problem/10987\n",
    "S = input()\n",
    "\n",
    "cnt = 0\n",
    "for s in S:\n",
    "    if s in ['a','e','i','o','u']:\n",
    "        cnt += 1\n",
    "\n",
    "print(cnt)"
   ]
  },
  {
   "cell_type": "code",
   "execution_count": 2,
   "metadata": {},
   "outputs": [
    {
     "name": "stdout",
     "output_type": "stream",
     "text": [
      "2\n",
      "5\n",
      "7\n",
      "17\n",
      "7\n"
     ]
    }
   ],
   "source": [
    "# https://www.acmicpc.net/problem/10953\n",
    "\n",
    "T = int(input())\n",
    "\n",
    "for _ in range(T):\n",
    "    A = list(map(int, input().split(',')))\n",
    "    print(sum(A))"
   ]
  },
  {
   "cell_type": "code",
   "execution_count": 5,
   "metadata": {},
   "outputs": [
    {
     "name": "stdout",
     "output_type": "stream",
     "text": [
      "Junhee is not cute!\n"
     ]
    }
   ],
   "source": [
    "# https://www.acmicpc.net/problem/10886\n",
    "\n",
    "N = int(input())\n",
    "\n",
    "num = [0] * N\n",
    "for _ in range(N):\n",
    "    num[_] = int(input())\n",
    "\n",
    "if num.count(0) > num.count(1):\n",
    "    print(\"Junhee is not cute!\")\n",
    "if num.count(0) < num.count(1):\n",
    "    print(\"Junhee is cute!\")"
   ]
  },
  {
   "cell_type": "code",
   "execution_count": null,
   "metadata": {},
   "outputs": [],
   "source": []
  }
 ],
 "metadata": {
  "kernelspec": {
   "display_name": "ff38",
   "language": "python",
   "name": "python3"
  },
  "language_info": {
   "codemirror_mode": {
    "name": "ipython",
    "version": 3
   },
   "file_extension": ".py",
   "mimetype": "text/x-python",
   "name": "python",
   "nbconvert_exporter": "python",
   "pygments_lexer": "ipython3",
   "version": "3.8.15"
  },
  "orig_nbformat": 4,
  "vscode": {
   "interpreter": {
    "hash": "134a072d5721038f7a0566ad89b8f20ad013922691df7c94a07b0dcd69bf1785"
   }
  }
 },
 "nbformat": 4,
 "nbformat_minor": 2
}
