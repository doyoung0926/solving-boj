{
 "cells": [
  {
   "cell_type": "code",
   "execution_count": 5,
   "metadata": {},
   "outputs": [
    {
     "name": "stdout",
     "output_type": "stream",
     "text": [
      "3\n"
     ]
    }
   ],
   "source": [
    "# https://www.acmicpc.net/problem/2355   # 메모리 초과\n",
    "\n",
    "A, B = map(int, input().split())\n",
    "\n",
    "a = [i for i in range(A, B+1)]\n",
    "\n",
    "print(sum(a))"
   ]
  },
  {
   "cell_type": "code",
   "execution_count": 14,
   "metadata": {},
   "outputs": [
    {
     "name": "stdout",
     "output_type": "stream",
     "text": [
      "-100,100\n"
     ]
    }
   ],
   "source": [
    "# https://www.acmicpc.net/problem/1551   # 고민(성공)\n",
    "\n",
    "N, K = map(int, input().split())\n",
    "li = list(map(int, input().split(',')))\n",
    "\n",
    "for _ in range(K):\n",
    "    t = [li[i+1]-li[i] for i in range(len(li)-1)]\n",
    "    li = t\n",
    "print(*li, sep=',')"
   ]
  },
  {
   "cell_type": "code",
   "execution_count": 27,
   "metadata": {},
   "outputs": [
    {
     "name": "stdout",
     "output_type": "stream",
     "text": [
      "05728\n"
     ]
    }
   ],
   "source": [
    "# https://www.acmicpc.net/problem/1564   # 시간 초과\n",
    "\n",
    "N = int(input())\n",
    "\n",
    "nfact = 1\n",
    "\n",
    "for i in range(N,0,-1):\n",
    "    nfact *= i\n",
    "\n",
    "for i in range(1, len(str(nfact))+1):\n",
    "    if str(nfact)[-i] != '0':\n",
    "        print(str(nfact)[-i-4:-i+1])\n",
    "        break"
   ]
  },
  {
   "cell_type": "code",
   "execution_count": 30,
   "metadata": {},
   "outputs": [
    {
     "name": "stdout",
     "output_type": "stream",
     "text": [
      "10 5\n",
      "161 1\n",
      "168 14\n"
     ]
    }
   ],
   "source": [
    "# https://www.acmicpc.net/problem/2702\n",
    "\n",
    "import math\n",
    "\n",
    "T = int(input())\n",
    "\n",
    "for _ in range(T):\n",
    "    a, b = map(int, input().split())\n",
    "\n",
    "    print(a*b//math.gcd(a, b), math.gcd(a, b))"
   ]
  },
  {
   "cell_type": "code",
   "execution_count": 31,
   "metadata": {},
   "outputs": [
    {
     "name": "stdout",
     "output_type": "stream",
     "text": [
      "105\n",
      "66\n",
      "90\n"
     ]
    }
   ],
   "source": [
    "# https://www.acmicpc.net/problem/5347\n",
    "\n",
    "import math\n",
    "\n",
    "n = int(input())\n",
    "\n",
    "for _ in range(n):\n",
    "    a, b = map(int, input().split())\n",
    "\n",
    "    print(a*b//math.gcd(a, b))"
   ]
  },
  {
   "cell_type": "code",
   "execution_count": null,
   "metadata": {},
   "outputs": [],
   "source": [
    "# https://www.acmicpc.net/problem/10988\n",
    "\n",
    "S = input()\n",
    "\n",
    "if S == S[::-1]:\n",
    "    print(1)\n",
    "else:\n",
    "    print(0)"
   ]
  },
  {
   "cell_type": "code",
   "execution_count": 34,
   "metadata": {},
   "outputs": [
    {
     "name": "stdout",
     "output_type": "stream",
     "text": [
      "10\n"
     ]
    }
   ],
   "source": [
    "# https://www.acmicpc.net/problem/10817\n",
    "\n",
    "A = list(map(int, input().split()))\n",
    "\n",
    "A.sort()\n",
    "\n",
    "print(A[1])"
   ]
  },
  {
   "cell_type": "code",
   "execution_count": 39,
   "metadata": {},
   "outputs": [
    {
     "name": "stdout",
     "output_type": "stream",
     "text": [
      "7\n"
     ]
    }
   ],
   "source": [
    "# https://www.acmicpc.net/problem/10773\n",
    "\n",
    "K = int(input())\n",
    "\n",
    "li = []\n",
    "\n",
    "for _ in range(K):\n",
    "    a = int(input())\n",
    "\n",
    "    if a == 0: li = li[:-1]\n",
    "    else:\n",
    "        li.append(a)\n",
    "\n",
    "print(sum(li))"
   ]
  },
  {
   "cell_type": "code",
   "execution_count": null,
   "metadata": {},
   "outputs": [],
   "source": []
  }
 ],
 "metadata": {
  "kernelspec": {
   "display_name": "ff38",
   "language": "python",
   "name": "python3"
  },
  "language_info": {
   "codemirror_mode": {
    "name": "ipython",
    "version": 3
   },
   "file_extension": ".py",
   "mimetype": "text/x-python",
   "name": "python",
   "nbconvert_exporter": "python",
   "pygments_lexer": "ipython3",
   "version": "3.8.15"
  },
  "orig_nbformat": 4,
  "vscode": {
   "interpreter": {
    "hash": "134a072d5721038f7a0566ad89b8f20ad013922691df7c94a07b0dcd69bf1785"
   }
  }
 },
 "nbformat": 4,
 "nbformat_minor": 2
}
