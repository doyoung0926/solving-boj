{
 "cells": [
  {
   "cell_type": "code",
   "execution_count": null,
   "metadata": {},
   "outputs": [],
   "source": [
    "# https://www.acmicpc.net/problem/1978\n",
    "\n",
    "N = int(input())\n",
    "M = list(map(int, input().split()))\n",
    "\n",
    "prime=[]\n",
    "for n in range(2, max(M)+1):\n",
    "    chk = 1\n",
    "    for m in range(2, n):\n",
    "        if n%m == 0:\n",
    "            chk = 0\n",
    "            break\n",
    "    if chk == 1:\n",
    "        prime.append(n)\n",
    "\n",
    "cnt = 0\n",
    "for i in M:\n",
    "    if i in prime:\n",
    "        cnt += 1\n",
    "\n",
    "print(cnt)"
   ]
  },
  {
   "cell_type": "code",
   "execution_count": null,
   "metadata": {},
   "outputs": [],
   "source": [
    "# https://www.acmicpc.net/problem/2581\n",
    "\n",
    "N = int(input())\n",
    "M = int(input())\n",
    "prime = []\n",
    "\n",
    "\n",
    "for n in range(N, M+1):\n",
    "    error = 0\n",
    "    if n > 1:\n",
    "        for m in range(2, n):\n",
    "            if n%m == 0:\n",
    "                error += 1\n",
    "                break\n",
    "        if error == 0:\n",
    "            prime.append(n)\n",
    "\n",
    "if len(prime) > 0:\n",
    "    print(sum(prime))\n",
    "    print(min(prime))\n",
    "else:\n",
    "    print(-1)"
   ]
  },
  {
   "cell_type": "code",
   "execution_count": null,
   "metadata": {},
   "outputs": [],
   "source": [
    "# https://www.acmicpc.net/problem/1110    # 이해해보기\n",
    "  \n",
    "N = int(input())\n",
    "num = N\n",
    "cnt = 0\n",
    "\n",
    "while True:\n",
    "    a = N // 10\n",
    "    b = N % 10\n",
    "    c  = (a+b) % 10\n",
    "    N = (b*10 + c)\n",
    "\n",
    "    cnt += 1\n",
    "    if (N == num):\n",
    "        break\n",
    "\n",
    "print(cnt)"
   ]
  },
  {
   "cell_type": "code",
   "execution_count": null,
   "metadata": {},
   "outputs": [],
   "source": [
    "# https://www.acmicpc.net/problem/1009\n",
    "import sys\n",
    "\n",
    "T = int(input())\n",
    "\n",
    "for _ in range(T):\n",
    "    a, b = map(int, sys.stdin.readline().split())\n",
    "\n",
    "    print((a**b)%10)"
   ]
  },
  {
   "cell_type": "code",
   "execution_count": 2,
   "metadata": {},
   "outputs": [
    {
     "name": "stdout",
     "output_type": "stream",
     "text": [
      "Defaulting to user installation because normal site-packages is not writeable\n"
     ]
    },
    {
     "name": "stderr",
     "output_type": "stream",
     "text": [
      "ERROR: Could not find a version that satisfies the requirement sys (from versions: none)\n",
      "ERROR: No matching distribution found for sys\n"
     ]
    }
   ],
   "source": []
  },
  {
   "cell_type": "code",
   "execution_count": null,
   "metadata": {},
   "outputs": [],
   "source": []
  }
 ],
 "metadata": {
  "kernelspec": {
   "display_name": "Python 3.9.13 64-bit",
   "language": "python",
   "name": "python3"
  },
  "language_info": {
   "codemirror_mode": {
    "name": "ipython",
    "version": 3
   },
   "file_extension": ".py",
   "mimetype": "text/x-python",
   "name": "python",
   "nbconvert_exporter": "python",
   "pygments_lexer": "ipython3",
   "version": "3.9.13"
  },
  "orig_nbformat": 4,
  "vscode": {
   "interpreter": {
    "hash": "11938c6bc6919ae2720b4d5011047913343b08a43b18698fd82dedb0d4417594"
   }
  }
 },
 "nbformat": 4,
 "nbformat_minor": 2
}
